{
 "cells": [
  {
   "cell_type": "markdown",
   "id": "f26b6044",
   "metadata": {
    "_cell_guid": "b1076dfc-b9ad-4769-8c92-a6c4dae69d19",
    "_uuid": "8f2839f25d086af736a60e9eeb907d3b93b6e0e5",
    "execution": {
     "iopub.execute_input": "2022-07-29T09:12:49.655200Z",
     "iopub.status.busy": "2022-07-29T09:12:49.654205Z",
     "iopub.status.idle": "2022-07-29T09:12:49.669906Z",
     "shell.execute_reply": "2022-07-29T09:12:49.669079Z"
    },
    "papermill": {
     "duration": 0.064062,
     "end_time": "2022-07-29T09:12:49.672477",
     "exception": false,
     "start_time": "2022-07-29T09:12:49.608415",
     "status": "completed"
    },
    "tags": []
   },
   "source": [
    "# DATA PREPROCESSING"
   ]
  },
  {
   "cell_type": "code",
   "execution_count": 2,
   "id": "bccc9350",
   "metadata": {
    "execution": {
     "iopub.execute_input": "2022-07-29T09:12:49.753343Z",
     "iopub.status.busy": "2022-07-29T09:12:49.752980Z",
     "iopub.status.idle": "2022-07-29T09:12:49.758013Z",
     "shell.execute_reply": "2022-07-29T09:12:49.756875Z"
    },
    "papermill": {
     "duration": 0.048116,
     "end_time": "2022-07-29T09:12:49.760274",
     "exception": false,
     "start_time": "2022-07-29T09:12:49.712158",
     "status": "completed"
    },
    "tags": []
   },
   "outputs": [],
   "source": [
    "import numpy as np\n",
    "import pandas as pd"
   ]
  },
  {
   "cell_type": "markdown",
   "id": "f6eda75a",
   "metadata": {
    "papermill": {
     "duration": 0.038613,
     "end_time": "2022-07-29T09:12:49.916259",
     "exception": false,
     "start_time": "2022-07-29T09:12:49.877646",
     "status": "completed"
    },
    "tags": []
   },
   "source": [
    "<a id=\"1\"></a>\n",
    "\n",
    "\n",
    "# NUMERICAL DATA\n",
    "\n",
    "Quantitative data is the measurement of something. For example:\n",
    "* Class size\n",
    "* Monthly sales\n",
    "* Student scores\n",
    "\n",
    "The natural way to represent these quantities is numerically. In this section we will cover numerous strategies for transforming raw numerical data into features purposebuilt for machine learning algorithms.\n"
   ]
  },
  {
   "cell_type": "markdown",
   "id": "a526d456",
   "metadata": {
    "papermill": {
     "duration": 0.048085,
     "end_time": "2022-07-29T09:12:50.007473",
     "exception": false,
     "start_time": "2022-07-29T09:12:49.959388",
     "status": "completed"
    },
    "tags": []
   },
   "source": [
    "<a id=\"2\"></a>\n",
    "\n",
    "\n",
    "## RESCALING a FEATURE\n",
    "\n",
    "Rescaling is a common preprocessing task. In this section we will learn:\n",
    "\n",
    "* MinMaxScaler\n",
    "* StandardScaler\n",
    "* RobustScaler\n",
    "* Normalizer"
   ]
  },
  {
   "cell_type": "markdown",
   "id": "29969bd4",
   "metadata": {
    "papermill": {
     "duration": 0.041125,
     "end_time": "2022-07-29T09:12:50.093964",
     "exception": false,
     "start_time": "2022-07-29T09:12:50.052839",
     "status": "completed"
    },
    "tags": []
   },
   "source": [
    "> You need to rescale the values of a numerical feature to be between two values."
   ]
  },
  {
   "attachments": {
    "e67feace-7aec-4526-a68a-11bce8607db5.png": {
     "image/png": "[encoded data removed]"
    }
   },
   "cell_type": "markdown",
   "id": "c710cbd5",
   "metadata": {
    "papermill": {
     "duration": 0.038474,
     "end_time": "2022-07-29T09:12:50.172686",
     "exception": false,
     "start_time": "2022-07-29T09:12:50.134212",
     "status": "completed"
    },
    "tags": []
   },
   "source": [
    "<a id=\"3\"></a>\n",
    "\n",
    "### MinMaxScaler\n",
    "\n",
    "* One of the simplest rescaling technique.\n",
    "* Min-max scaling uses the minimum and maximum values of a feature to rescale values to within a range.\n",
    "\n",
    "![minmax.png](attachment:e67feace-7aec-4526-a68a-11bce8607db5.png)"
   ]
  },
  {
   "cell_type": "code",
   "execution_count": 3,
   "id": "71a2a486",
   "metadata": {
    "execution": {
     "iopub.execute_input": "2022-07-29T09:12:50.252612Z",
     "iopub.status.busy": "2022-07-29T09:12:50.251828Z",
     "iopub.status.idle": "2022-07-29T09:12:51.318012Z",
     "shell.execute_reply": "2022-07-29T09:12:51.316477Z"
    },
    "papermill": {
     "duration": 1.109239,
     "end_time": "2022-07-29T09:12:51.320889",
     "exception": false,
     "start_time": "2022-07-29T09:12:50.211650",
     "status": "completed"
    },
    "tags": []
   },
   "outputs": [],
   "source": [
    "from sklearn import preprocessing"
   ]
  },
  {
   "cell_type": "code",
   "execution_count": 4,
   "id": "6b744902",
   "metadata": {
    "execution": {
     "iopub.execute_input": "2022-07-29T09:12:51.402518Z",
     "iopub.status.busy": "2022-07-29T09:12:51.402091Z",
     "iopub.status.idle": "2022-07-29T09:12:51.407733Z",
     "shell.execute_reply": "2022-07-29T09:12:51.406411Z"
    },
    "papermill": {
     "duration": 0.04936,
     "end_time": "2022-07-29T09:12:51.409999",
     "exception": false,
     "start_time": "2022-07-29T09:12:51.360639",
     "status": "completed"
    },
    "tags": []
   },
   "outputs": [],
   "source": [
    "# Create feature\n",
    "feature = np.array([[-500.5],\n",
    "                    [-100.1],\n",
    "                    [0],\n",
    "                    [100.1],\n",
    "                    [900.9]])"
   ]
  },
  {
   "cell_type": "code",
   "execution_count": 5,
   "id": "5a7aa6d6",
   "metadata": {
    "execution": {
     "iopub.execute_input": "2022-07-29T09:12:51.490423Z",
     "iopub.status.busy": "2022-07-29T09:12:51.489711Z",
     "iopub.status.idle": "2022-07-29T09:12:51.499626Z",
     "shell.execute_reply": "2022-07-29T09:12:51.498888Z"
    },
    "papermill": {
     "duration": 0.052303,
     "end_time": "2022-07-29T09:12:51.501496",
     "exception": false,
     "start_time": "2022-07-29T09:12:51.449193",
     "status": "completed"
    },
    "tags": []
   },
   "outputs": [
    {
     "data": {
      "text/plain": [
       "array([[0.        ],\n",
       "       [0.28571429],\n",
       "       [0.35714286],\n",
       "       [0.42857143],\n",
       "       [1.        ]])"
      ]
     },
     "execution_count": 5,
     "metadata": {},
     "output_type": "execute_result"
    }
   ],
   "source": [
    "preprocessing.minmax_scale(feature_range=(0,1),X=feature)"
   ]
  },
  {
   "cell_type": "markdown",
   "id": "33346d04",
   "metadata": {
    "papermill": {
     "duration": 0.038905,
     "end_time": "2022-07-29T09:12:51.580268",
     "exception": false,
     "start_time": "2022-07-29T09:12:51.541363",
     "status": "completed"
    },
    "tags": []
   },
   "source": [
    "# OR"
   ]
  },
  {
   "cell_type": "code",
   "execution_count": 6,
   "id": "2b76bec8",
   "metadata": {
    "execution": {
     "iopub.execute_input": "2022-07-29T09:12:51.660531Z",
     "iopub.status.busy": "2022-07-29T09:12:51.659824Z",
     "iopub.status.idle": "2022-07-29T09:12:51.666613Z",
     "shell.execute_reply": "2022-07-29T09:12:51.665824Z"
    },
    "papermill": {
     "duration": 0.049187,
     "end_time": "2022-07-29T09:12:51.668600",
     "exception": false,
     "start_time": "2022-07-29T09:12:51.619413",
     "status": "completed"
    },
    "tags": []
   },
   "outputs": [
    {
     "data": {
      "text/plain": [
       "array([[1.        ],\n",
       "       [2.14285714],\n",
       "       [2.42857143],\n",
       "       [2.71428571],\n",
       "       [5.        ]])"
      ]
     },
     "execution_count": 6,
     "metadata": {},
     "output_type": "execute_result"
    }
   ],
   "source": [
    "scaler=preprocessing.MinMaxScaler(feature_range=(1,5))\n",
    "scaler.fit_transform(feature)"
   ]
  },
  {
   "attachments": {
    "caf77049-cb9c-46a8-81b2-207bc345d322.png": {
     "image/png": "[encoded data removed]"
    }
   },
   "cell_type": "markdown",
   "id": "6cc5d94f",
   "metadata": {
    "papermill": {
     "duration": 0.039136,
     "end_time": "2022-07-29T09:12:51.746687",
     "exception": false,
     "start_time": "2022-07-29T09:12:51.707551",
     "status": "completed"
    },
    "tags": []
   },
   "source": [
    "<a id=\"4\"></a>\n",
    "\n",
    "\n",
    "### StandardScaler\n",
    "\n",
    "* A common alternative to min-max scaling.\n",
    "* Rescaling of features to be approximately standard normally distributed.\n",
    "* To achieve this, we use standardization to transform the data such that:\n",
    "  * Mean = 0\n",
    "  * Standard Deviation = 1\n",
    "  \n",
    "  ![standard.png](attachment:caf77049-cb9c-46a8-81b2-207bc345d322.png)"
   ]
  },
  {
   "cell_type": "markdown",
   "id": "1486aee4",
   "metadata": {
    "papermill": {
     "duration": 0.039059,
     "end_time": "2022-07-29T09:12:51.825444",
     "exception": false,
     "start_time": "2022-07-29T09:12:51.786385",
     "status": "completed"
    },
    "tags": []
   },
   "source": [
    " **->** Principal Component Analysis (PCA) often works better using standardization, while min-max scaling is often recommended for Neural Networks"
   ]
  },
  {
   "cell_type": "markdown",
   "id": "79688af9",
   "metadata": {
    "papermill": {
     "duration": 0.039015,
     "end_time": "2022-07-29T09:12:51.903737",
     "exception": false,
     "start_time": "2022-07-29T09:12:51.864722",
     "status": "completed"
    },
    "tags": []
   },
   "source": [
    "> You want to transform a feature to have a mean of 0 and a standard deviation of 1"
   ]
  },
  {
   "cell_type": "code",
   "execution_count": 7,
   "id": "efdbd72b",
   "metadata": {
    "execution": {
     "iopub.execute_input": "2022-07-29T09:12:51.984568Z",
     "iopub.status.busy": "2022-07-29T09:12:51.983871Z",
     "iopub.status.idle": "2022-07-29T09:12:51.988456Z",
     "shell.execute_reply": "2022-07-29T09:12:51.987695Z"
    },
    "papermill": {
     "duration": 0.04749,
     "end_time": "2022-07-29T09:12:51.990406",
     "exception": false,
     "start_time": "2022-07-29T09:12:51.942916",
     "status": "completed"
    },
    "tags": []
   },
   "outputs": [],
   "source": [
    "x = np.array([[-1000.1],\n",
    "              [-200.2],\n",
    "              [500.5],\n",
    "              [600.6],\n",
    "              [9000.9]])"
   ]
  },
  {
   "cell_type": "code",
   "execution_count": 8,
   "id": "c6e7e044",
   "metadata": {
    "execution": {
     "iopub.execute_input": "2022-07-29T09:12:52.071432Z",
     "iopub.status.busy": "2022-07-29T09:12:52.070639Z",
     "iopub.status.idle": "2022-07-29T09:12:52.080896Z",
     "shell.execute_reply": "2022-07-29T09:12:52.079764Z"
    },
    "papermill": {
     "duration": 0.053535,
     "end_time": "2022-07-29T09:12:52.083382",
     "exception": false,
     "start_time": "2022-07-29T09:12:52.029847",
     "status": "completed"
    },
    "tags": []
   },
   "outputs": [
    {
     "data": {
      "text/plain": [
       "array([[-0.76058269],\n",
       "       [-0.54177196],\n",
       "       [-0.35009716],\n",
       "       [-0.32271504],\n",
       "       [ 1.97516685]])"
      ]
     },
     "execution_count": 8,
     "metadata": {},
     "output_type": "execute_result"
    }
   ],
   "source": [
    "scaler=preprocessing.StandardScaler()\n",
    "standardized=scaler.fit_transform(x)\n",
    "standardized"
   ]
  },
  {
   "cell_type": "markdown",
   "id": "36f5b589",
   "metadata": {
    "papermill": {
     "duration": 0.039362,
     "end_time": "2022-07-29T09:12:52.163138",
     "exception": false,
     "start_time": "2022-07-29T09:12:52.123776",
     "status": "completed"
    },
    "tags": []
   },
   "source": [
    "> Lets check"
   ]
  },
  {
   "cell_type": "code",
   "execution_count": 9,
   "id": "f08bd415",
   "metadata": {
    "execution": {
     "iopub.execute_input": "2022-07-29T09:12:52.243346Z",
     "iopub.status.busy": "2022-07-29T09:12:52.242952Z",
     "iopub.status.idle": "2022-07-29T09:12:52.249738Z",
     "shell.execute_reply": "2022-07-29T09:12:52.248128Z"
    },
    "papermill": {
     "duration": 0.050908,
     "end_time": "2022-07-29T09:12:52.253346",
     "exception": false,
     "start_time": "2022-07-29T09:12:52.202438",
     "status": "completed"
    },
    "tags": []
   },
   "outputs": [
    {
     "name": "stdout",
     "output_type": "stream",
     "text": [
      "Mean: 0\n",
      "Standard deviation: 1.0\n"
     ]
    }
   ],
   "source": [
    "print(\"Mean:\", round(standardized.mean()))\n",
    "print(\"Standard deviation:\", standardized.std())"
   ]
  },
  {
   "cell_type": "markdown",
   "id": "58677589",
   "metadata": {
    "papermill": {
     "duration": 0.039159,
     "end_time": "2022-07-29T09:12:52.332733",
     "exception": false,
     "start_time": "2022-07-29T09:12:52.293574",
     "status": "completed"
    },
    "tags": []
   },
   "source": [
    "<a id=\"5\"></a>\n",
    "\n",
    "\n",
    "### RobustScaler\n",
    "\n",
    "* If our data has significant outliers, it can negatively impact our standardization by affecting the feature’s mean and variance.\n",
    "* In this scenario, it is often helpful to instead rescale the feature using the median and quartile range."
   ]
  },
  {
   "cell_type": "code",
   "execution_count": 10,
   "id": "baf0c794",
   "metadata": {
    "execution": {
     "iopub.execute_input": "2022-07-29T09:12:52.414039Z",
     "iopub.status.busy": "2022-07-29T09:12:52.413653Z",
     "iopub.status.idle": "2022-07-29T09:12:52.423711Z",
     "shell.execute_reply": "2022-07-29T09:12:52.422846Z"
    },
    "papermill": {
     "duration": 0.054019,
     "end_time": "2022-07-29T09:12:52.425956",
     "exception": false,
     "start_time": "2022-07-29T09:12:52.371937",
     "status": "completed"
    },
    "tags": []
   },
   "outputs": [
    {
     "data": {
      "text/plain": [
       "array([[-1.87387612],\n",
       "       [-0.875     ],\n",
       "       [ 0.        ],\n",
       "       [ 0.125     ],\n",
       "       [10.61488511]])"
      ]
     },
     "execution_count": 10,
     "metadata": {},
     "output_type": "execute_result"
    }
   ],
   "source": [
    "robust_scaler=preprocessing.RobustScaler()\n",
    "robust_scaler.fit_transform(x)"
   ]
  },
  {
   "attachments": {
    "2deac2dd-7c2e-4110-b7b1-89c678455d38.png": {
     "image/png": "[encoded data removed]"
    }
   },
   "cell_type": "markdown",
   "id": "2ab7d436",
   "metadata": {
    "papermill": {
     "duration": 0.03906,
     "end_time": "2022-07-29T09:12:52.505274",
     "exception": false,
     "start_time": "2022-07-29T09:12:52.466214",
     "status": "completed"
    },
    "tags": []
   },
   "source": [
    "<a id=\"6\"></a>\n",
    "\n",
    "\n",
    "### Normalizer\n",
    "* Many rescaling methods (e.g., min-max scaling and standardization) operate on features; however, we can also rescale across **individual observations**.\n",
    "* *Normalizer* rescales the values on individual observations to have unit norm (the sum of their lengths is 1).\n",
    "* This type of rescaling is often used when we have many equivalent features for example: Text Classification\n",
    "* *Normalizer* provides three norm options with **Euclidean norm** (often called L2) being the default argument:\n",
    "\n",
    "\n",
    "![eul.png](attachment:2deac2dd-7c2e-4110-b7b1-89c678455d38.png)"
   ]
  },
  {
   "cell_type": "markdown",
   "id": "88537577",
   "metadata": {
    "papermill": {
     "duration": 0.038931,
     "end_time": "2022-07-29T09:12:52.583809",
     "exception": false,
     "start_time": "2022-07-29T09:12:52.544878",
     "status": "completed"
    },
    "tags": []
   },
   "source": [
    "> You want to rescale the feature values of observations to have unit norm (a total\n",
    "length of 1)."
   ]
  },
  {
   "cell_type": "code",
   "execution_count": 11,
   "id": "9e1dc9b1",
   "metadata": {
    "execution": {
     "iopub.execute_input": "2022-07-29T09:12:52.663992Z",
     "iopub.status.busy": "2022-07-29T09:12:52.663568Z",
     "iopub.status.idle": "2022-07-29T09:12:52.668298Z",
     "shell.execute_reply": "2022-07-29T09:12:52.667154Z"
    },
    "papermill": {
     "duration": 0.047672,
     "end_time": "2022-07-29T09:12:52.670646",
     "exception": false,
     "start_time": "2022-07-29T09:12:52.622974",
     "status": "completed"
    },
    "tags": []
   },
   "outputs": [],
   "source": [
    "from sklearn.preprocessing import Normalizer"
   ]
  },
  {
   "cell_type": "code",
   "execution_count": 12,
   "id": "b836828d",
   "metadata": {
    "execution": {
     "iopub.execute_input": "2022-07-29T09:12:52.751672Z",
     "iopub.status.busy": "2022-07-29T09:12:52.750897Z",
     "iopub.status.idle": "2022-07-29T09:12:52.757332Z",
     "shell.execute_reply": "2022-07-29T09:12:52.756195Z"
    },
    "papermill": {
     "duration": 0.050025,
     "end_time": "2022-07-29T09:12:52.759733",
     "exception": false,
     "start_time": "2022-07-29T09:12:52.709708",
     "status": "completed"
    },
    "tags": []
   },
   "outputs": [],
   "source": [
    "features = np.array([[0.5, 0.5],\n",
    "                     [1.1, 3.4],\n",
    "                     [1.5, 20.2],\n",
    "                     [1.63, 34.4],\n",
    "                     [10.9, 3.3]])"
   ]
  },
  {
   "cell_type": "code",
   "execution_count": 13,
   "id": "04f9be62",
   "metadata": {
    "execution": {
     "iopub.execute_input": "2022-07-29T09:12:52.839903Z",
     "iopub.status.busy": "2022-07-29T09:12:52.839538Z",
     "iopub.status.idle": "2022-07-29T09:12:52.846966Z",
     "shell.execute_reply": "2022-07-29T09:12:52.845865Z"
    },
    "papermill": {
     "duration": 0.049964,
     "end_time": "2022-07-29T09:12:52.849127",
     "exception": false,
     "start_time": "2022-07-29T09:12:52.799163",
     "status": "completed"
    },
    "tags": []
   },
   "outputs": [
    {
     "data": {
      "text/plain": [
       "array([[0.70710678, 0.70710678],\n",
       "       [0.30782029, 0.95144452],\n",
       "       [0.07405353, 0.99725427],\n",
       "       [0.04733062, 0.99887928],\n",
       "       [0.95709822, 0.28976368]])"
      ]
     },
     "execution_count": 13,
     "metadata": {},
     "output_type": "execute_result"
    }
   ],
   "source": [
    "normalizer=Normalizer(norm=\"l2\")\n",
    "normalizer.transform(features)"
   ]
  },
  {
   "attachments": {
    "da3bd9c7-d036-48a4-aec0-63b86aad764c.png": {
     "image/png": "[encoded data removed]"
    }
   },
   "cell_type": "markdown",
   "id": "63d178cd",
   "metadata": {
    "papermill": {
     "duration": 0.039925,
     "end_time": "2022-07-29T09:12:52.928342",
     "exception": false,
     "start_time": "2022-07-29T09:12:52.888417",
     "status": "completed"
    },
    "tags": []
   },
   "source": [
    " ### Manhattan Norm (L1):\n",
    "\n",
    "![manh.png](attachment:da3bd9c7-d036-48a4-aec0-63b86aad764c.png)"
   ]
  },
  {
   "cell_type": "code",
   "execution_count": 14,
   "id": "0d3e1f0e",
   "metadata": {
    "execution": {
     "iopub.execute_input": "2022-07-29T09:12:53.009964Z",
     "iopub.status.busy": "2022-07-29T09:12:53.009337Z",
     "iopub.status.idle": "2022-07-29T09:12:53.017122Z",
     "shell.execute_reply": "2022-07-29T09:12:53.016164Z"
    },
    "papermill": {
     "duration": 0.051604,
     "end_time": "2022-07-29T09:12:53.019203",
     "exception": false,
     "start_time": "2022-07-29T09:12:52.967599",
     "status": "completed"
    },
    "tags": []
   },
   "outputs": [
    {
     "data": {
      "text/plain": [
       "array([[0.5       , 0.5       ],\n",
       "       [0.24444444, 0.75555556],\n",
       "       [0.06912442, 0.93087558],\n",
       "       [0.04524008, 0.95475992],\n",
       "       [0.76760563, 0.23239437]])"
      ]
     },
     "execution_count": 14,
     "metadata": {},
     "output_type": "execute_result"
    }
   ],
   "source": [
    "data_l1_norm=Normalizer(norm=\"l1\").transform(features)\n",
    "data_l1_norm"
   ]
  },
  {
   "cell_type": "markdown",
   "id": "e5ce1502",
   "metadata": {
    "papermill": {
     "duration": 0.039367,
     "end_time": "2022-07-29T09:12:53.097937",
     "exception": false,
     "start_time": "2022-07-29T09:12:53.058570",
     "status": "completed"
    },
    "tags": []
   },
   "source": [
    "<a id=\"7\"></a>\n",
    "\n",
    "\n",
    "## GENERATING POLYNOMIAL and INTERACTION FEATURES\n",
    "\n",
    "* Polynomial features are often created when we want to include the notion that there exists a nonlinear relationship between the features and the target.\n",
    "* For example: we might suspect that the effect of age on the probability of having a major medical condition is not constant over time but increases as age increases."
   ]
  },
  {
   "cell_type": "code",
   "execution_count": 15,
   "id": "8b3ed031",
   "metadata": {
    "execution": {
     "iopub.execute_input": "2022-07-29T09:12:53.178942Z",
     "iopub.status.busy": "2022-07-29T09:12:53.178527Z",
     "iopub.status.idle": "2022-07-29T09:12:53.183196Z",
     "shell.execute_reply": "2022-07-29T09:12:53.182137Z"
    },
    "papermill": {
     "duration": 0.048177,
     "end_time": "2022-07-29T09:12:53.185544",
     "exception": false,
     "start_time": "2022-07-29T09:12:53.137367",
     "status": "completed"
    },
    "tags": []
   },
   "outputs": [],
   "source": [
    "from sklearn.preprocessing import PolynomialFeatures"
   ]
  },
  {
   "cell_type": "markdown",
   "id": "4049a67d",
   "metadata": {
    "papermill": {
     "duration": 0.039567,
     "end_time": "2022-07-29T09:12:53.265095",
     "exception": false,
     "start_time": "2022-07-29T09:12:53.225528",
     "status": "completed"
    },
    "tags": []
   },
   "source": [
    "> You want to create polynominal and interaction features."
   ]
  },
  {
   "cell_type": "code",
   "execution_count": 16,
   "id": "0ff72425",
   "metadata": {
    "execution": {
     "iopub.execute_input": "2022-07-29T09:12:53.347419Z",
     "iopub.status.busy": "2022-07-29T09:12:53.346695Z",
     "iopub.status.idle": "2022-07-29T09:12:53.351468Z",
     "shell.execute_reply": "2022-07-29T09:12:53.350441Z"
    },
    "papermill": {
     "duration": 0.048204,
     "end_time": "2022-07-29T09:12:53.353621",
     "exception": false,
     "start_time": "2022-07-29T09:12:53.305417",
     "status": "completed"
    },
    "tags": []
   },
   "outputs": [],
   "source": [
    "features = np.array([[2, 3],\n",
    "                     [2, 3],\n",
    "                     [2, 3]])"
   ]
  },
  {
   "cell_type": "code",
   "execution_count": 17,
   "id": "304ce5f3",
   "metadata": {
    "execution": {
     "iopub.execute_input": "2022-07-29T09:12:53.435600Z",
     "iopub.status.busy": "2022-07-29T09:12:53.434926Z",
     "iopub.status.idle": "2022-07-29T09:12:53.441509Z",
     "shell.execute_reply": "2022-07-29T09:12:53.440810Z"
    },
    "papermill": {
     "duration": 0.050361,
     "end_time": "2022-07-29T09:12:53.443556",
     "exception": false,
     "start_time": "2022-07-29T09:12:53.393195",
     "status": "completed"
    },
    "tags": []
   },
   "outputs": [
    {
     "data": {
      "text/plain": [
       "array([[2., 3., 4., 6., 9.],\n",
       "       [2., 3., 4., 6., 9.],\n",
       "       [2., 3., 4., 6., 9.]])"
      ]
     },
     "execution_count": 17,
     "metadata": {},
     "output_type": "execute_result"
    }
   ],
   "source": [
    "polynomial_interaction=PolynomialFeatures(degree=2,include_bias=False)  \n",
    "# degree: Maximum degree of the polynomial\n",
    "polynomial_interaction.fit_transform(features)"
   ]
  },
  {
   "cell_type": "markdown",
   "id": "be82dc79",
   "metadata": {
    "papermill": {
     "duration": 0.039476,
     "end_time": "2022-07-29T09:12:53.523056",
     "exception": false,
     "start_time": "2022-07-29T09:12:53.483580",
     "status": "completed"
    },
    "tags": []
   },
   "source": [
    "> We can restrict the features created to only interaction features by setting *interaction_only* = True:"
   ]
  },
  {
   "cell_type": "code",
   "execution_count": 18,
   "id": "39d47a14",
   "metadata": {
    "execution": {
     "iopub.execute_input": "2022-07-29T09:12:53.604551Z",
     "iopub.status.busy": "2022-07-29T09:12:53.603783Z",
     "iopub.status.idle": "2022-07-29T09:12:53.610636Z",
     "shell.execute_reply": "2022-07-29T09:12:53.609896Z"
    },
    "papermill": {
     "duration": 0.049962,
     "end_time": "2022-07-29T09:12:53.612720",
     "exception": false,
     "start_time": "2022-07-29T09:12:53.562758",
     "status": "completed"
    },
    "tags": []
   },
   "outputs": [
    {
     "data": {
      "text/plain": [
       "array([[2., 3., 6.],\n",
       "       [2., 3., 6.],\n",
       "       [2., 3., 6.]])"
      ]
     },
     "execution_count": 18,
     "metadata": {},
     "output_type": "execute_result"
    }
   ],
   "source": [
    "interaction=PolynomialFeatures(degree=2,interaction_only=True,include_bias=False)\n",
    "interaction.fit_transform(features)"
   ]
  },
  {
   "cell_type": "markdown",
   "id": "b4c6f1f5",
   "metadata": {
    "papermill": {
     "duration": 0.039243,
     "end_time": "2022-07-29T09:12:53.692061",
     "exception": false,
     "start_time": "2022-07-29T09:12:53.652818",
     "status": "completed"
    },
    "tags": []
   },
   "source": [
    "<a id=\"8\"></a>\n",
    "\n",
    "# TRANSFORMING FEATURES\n",
    "\n",
    "* It is common to want to make some custom transformations to one or more features.\n",
    "* We can do this by creating a function and then mapping it to features using either **scikit-learn**’s *FunctionTransformer* or **pandas**’ *apply*."
   ]
  },
  {
   "cell_type": "code",
   "execution_count": 19,
   "id": "1a2743ad",
   "metadata": {
    "execution": {
     "iopub.execute_input": "2022-07-29T09:12:53.773263Z",
     "iopub.status.busy": "2022-07-29T09:12:53.772538Z",
     "iopub.status.idle": "2022-07-29T09:12:53.776880Z",
     "shell.execute_reply": "2022-07-29T09:12:53.776082Z"
    },
    "papermill": {
     "duration": 0.047303,
     "end_time": "2022-07-29T09:12:53.778929",
     "exception": false,
     "start_time": "2022-07-29T09:12:53.731626",
     "status": "completed"
    },
    "tags": []
   },
   "outputs": [],
   "source": [
    "from sklearn.preprocessing import FunctionTransformer"
   ]
  },
  {
   "cell_type": "markdown",
   "id": "d04e67b3",
   "metadata": {
    "papermill": {
     "duration": 0.039381,
     "end_time": "2022-07-29T09:12:53.858511",
     "exception": false,
     "start_time": "2022-07-29T09:12:53.819130",
     "status": "completed"
    },
    "tags": []
   },
   "source": [
    "> You want to make a custom transformation to one or more features."
   ]
  },
  {
   "cell_type": "code",
   "execution_count": 20,
   "id": "6ca5b283",
   "metadata": {
    "execution": {
     "iopub.execute_input": "2022-07-29T09:12:53.939895Z",
     "iopub.status.busy": "2022-07-29T09:12:53.939484Z",
     "iopub.status.idle": "2022-07-29T09:12:53.943673Z",
     "shell.execute_reply": "2022-07-29T09:12:53.942895Z"
    },
    "papermill": {
     "duration": 0.04742,
     "end_time": "2022-07-29T09:12:53.945675",
     "exception": false,
     "start_time": "2022-07-29T09:12:53.898255",
     "status": "completed"
    },
    "tags": []
   },
   "outputs": [],
   "source": [
    "# Create function:\n",
    "def multiply(x):\n",
    "    return x*100"
   ]
  },
  {
   "cell_type": "code",
   "execution_count": 21,
   "id": "47e3d7db",
   "metadata": {
    "execution": {
     "iopub.execute_input": "2022-07-29T09:12:54.028496Z",
     "iopub.status.busy": "2022-07-29T09:12:54.027762Z",
     "iopub.status.idle": "2022-07-29T09:12:54.033706Z",
     "shell.execute_reply": "2022-07-29T09:12:54.032942Z"
    },
    "papermill": {
     "duration": 0.049667,
     "end_time": "2022-07-29T09:12:54.035738",
     "exception": false,
     "start_time": "2022-07-29T09:12:53.986071",
     "status": "completed"
    },
    "tags": []
   },
   "outputs": [
    {
     "data": {
      "text/plain": [
       "array([[200, 300],\n",
       "       [200, 300],\n",
       "       [200, 300]])"
      ]
     },
     "execution_count": 21,
     "metadata": {},
     "output_type": "execute_result"
    }
   ],
   "source": [
    "# Scikit-Learn:\n",
    "transformer=FunctionTransformer(multiply)\n",
    "transformer.fit_transform(features)"
   ]
  },
  {
   "cell_type": "code",
   "execution_count": 22,
   "id": "a7fdeb6d",
   "metadata": {
    "execution": {
     "iopub.execute_input": "2022-07-29T09:12:54.118070Z",
     "iopub.status.busy": "2022-07-29T09:12:54.117371Z",
     "iopub.status.idle": "2022-07-29T09:12:54.137487Z",
     "shell.execute_reply": "2022-07-29T09:12:54.136681Z"
    },
    "papermill": {
     "duration": 0.064007,
     "end_time": "2022-07-29T09:12:54.139674",
     "exception": false,
     "start_time": "2022-07-29T09:12:54.075667",
     "status": "completed"
    },
    "tags": []
   },
   "outputs": [
    {
     "data": {
      "text/html": [
       "<div>\n",
       "<style scoped>\n",
       "    .dataframe tbody tr th:only-of-type {\n",
       "        vertical-align: middle;\n",
       "    }\n",
       "\n",
       "    .dataframe tbody tr th {\n",
       "        vertical-align: top;\n",
       "    }\n",
       "\n",
       "    .dataframe thead th {\n",
       "        text-align: right;\n",
       "    }\n",
       "</style>\n",
       "<table border=\"1\" class=\"dataframe\">\n",
       "  <thead>\n",
       "    <tr style=\"text-align: right;\">\n",
       "      <th></th>\n",
       "      <th>num_1</th>\n",
       "      <th>num_2</th>\n",
       "    </tr>\n",
       "  </thead>\n",
       "  <tbody>\n",
       "    <tr>\n",
       "      <th>0</th>\n",
       "      <td>200</td>\n",
       "      <td>300</td>\n",
       "    </tr>\n",
       "    <tr>\n",
       "      <th>1</th>\n",
       "      <td>200</td>\n",
       "      <td>300</td>\n",
       "    </tr>\n",
       "    <tr>\n",
       "      <th>2</th>\n",
       "      <td>200</td>\n",
       "      <td>300</td>\n",
       "    </tr>\n",
       "  </tbody>\n",
       "</table>\n",
       "</div>"
      ],
      "text/plain": [
       "   num_1  num_2\n",
       "0    200    300\n",
       "1    200    300\n",
       "2    200    300"
      ]
     },
     "execution_count": 22,
     "metadata": {},
     "output_type": "execute_result"
    }
   ],
   "source": [
    "# Pandas:\n",
    "df=pd.DataFrame(features,columns=[\"num_1\",\"num_2\"])\n",
    "df.apply(multiply)"
   ]
  },
  {
   "cell_type": "markdown",
   "id": "6c3b34de",
   "metadata": {
    "papermill": {
     "duration": 0.039868,
     "end_time": "2022-07-29T09:12:54.220087",
     "exception": false,
     "start_time": "2022-07-29T09:12:54.180219",
     "status": "completed"
    },
    "tags": []
   },
   "source": [
    "<a id=\"9\"></a>\n",
    "\n",
    "\n",
    "# DETECTING OUTLIERS\n",
    "\n",
    "* There is no single best technique for detecting outliers.\n",
    "* We have a collection of techniques all with their own advantages and disadvantages.\n",
    "* Our best strategy is often trying multiple techniques and looking at the results as a whole.\n",
    "    * EllipticEnvelope\n",
    "    * IQR Based Detection"
   ]
  },
  {
   "cell_type": "code",
   "execution_count": 23,
   "id": "2c1187a4",
   "metadata": {
    "execution": {
     "iopub.execute_input": "2022-07-29T09:12:54.302493Z",
     "iopub.status.busy": "2022-07-29T09:12:54.301775Z",
     "iopub.status.idle": "2022-07-29T09:12:54.516091Z",
     "shell.execute_reply": "2022-07-29T09:12:54.514810Z"
    },
    "papermill": {
     "duration": 0.258528,
     "end_time": "2022-07-29T09:12:54.518780",
     "exception": false,
     "start_time": "2022-07-29T09:12:54.260252",
     "status": "completed"
    },
    "tags": []
   },
   "outputs": [],
   "source": [
    "from sklearn.covariance import EllipticEnvelope\n",
    "from sklearn.datasets import make_blobs"
   ]
  },
  {
   "cell_type": "markdown",
   "id": "c93f42b7",
   "metadata": {
    "papermill": {
     "duration": 0.040918,
     "end_time": "2022-07-29T09:12:54.600099",
     "exception": false,
     "start_time": "2022-07-29T09:12:54.559181",
     "status": "completed"
    },
    "tags": []
   },
   "source": [
    "> You want to identify extreme observations."
   ]
  },
  {
   "cell_type": "markdown",
   "id": "f0053d53",
   "metadata": {
    "papermill": {
     "duration": 0.039823,
     "end_time": "2022-07-29T09:12:54.681587",
     "exception": false,
     "start_time": "2022-07-29T09:12:54.641764",
     "status": "completed"
    },
    "tags": []
   },
   "source": [
    "<a id=\"10\"></a>\n",
    "\n",
    "### EllipticEnvelope"
   ]
  },
  {
   "cell_type": "code",
   "execution_count": 24,
   "id": "d0e69cdf",
   "metadata": {
    "execution": {
     "iopub.execute_input": "2022-07-29T09:12:54.765121Z",
     "iopub.status.busy": "2022-07-29T09:12:54.764098Z",
     "iopub.status.idle": "2022-07-29T09:12:54.770598Z",
     "shell.execute_reply": "2022-07-29T09:12:54.769841Z"
    },
    "papermill": {
     "duration": 0.050103,
     "end_time": "2022-07-29T09:12:54.772821",
     "exception": false,
     "start_time": "2022-07-29T09:12:54.722718",
     "status": "completed"
    },
    "tags": []
   },
   "outputs": [],
   "source": [
    "features,_=make_blobs(n_samples=10,\n",
    "                     n_features=2,\n",
    "                     centers=1,\n",
    "                     random_state=1)"
   ]
  },
  {
   "cell_type": "code",
   "execution_count": 25,
   "id": "e331de22",
   "metadata": {
    "execution": {
     "iopub.execute_input": "2022-07-29T09:12:54.856873Z",
     "iopub.status.busy": "2022-07-29T09:12:54.856213Z",
     "iopub.status.idle": "2022-07-29T09:12:54.861193Z",
     "shell.execute_reply": "2022-07-29T09:12:54.860390Z"
    },
    "papermill": {
     "duration": 0.049374,
     "end_time": "2022-07-29T09:12:54.863252",
     "exception": false,
     "start_time": "2022-07-29T09:12:54.813878",
     "status": "completed"
    },
    "tags": []
   },
   "outputs": [],
   "source": [
    "# Replace with extreme values:\n",
    "features[0,0]=10000\n",
    "features[0,1]=10000"
   ]
  },
  {
   "cell_type": "code",
   "execution_count": 26,
   "id": "ac024e81",
   "metadata": {
    "execution": {
     "iopub.execute_input": "2022-07-29T09:12:54.945893Z",
     "iopub.status.busy": "2022-07-29T09:12:54.945228Z",
     "iopub.status.idle": "2022-07-29T09:12:54.950384Z",
     "shell.execute_reply": "2022-07-29T09:12:54.949490Z"
    },
    "papermill": {
     "duration": 0.049271,
     "end_time": "2022-07-29T09:12:54.952513",
     "exception": false,
     "start_time": "2022-07-29T09:12:54.903242",
     "status": "completed"
    },
    "tags": []
   },
   "outputs": [],
   "source": [
    "# Detector:\n",
    "outlier_detector=EllipticEnvelope(contamination=.1)"
   ]
  },
  {
   "cell_type": "code",
   "execution_count": 27,
   "id": "40cf88b4",
   "metadata": {
    "execution": {
     "iopub.execute_input": "2022-07-29T09:12:55.035173Z",
     "iopub.status.busy": "2022-07-29T09:12:55.034413Z",
     "iopub.status.idle": "2022-07-29T09:12:55.094553Z",
     "shell.execute_reply": "2022-07-29T09:12:55.093402Z"
    },
    "papermill": {
     "duration": 0.104317,
     "end_time": "2022-07-29T09:12:55.097240",
     "exception": false,
     "start_time": "2022-07-29T09:12:54.992923",
     "status": "completed"
    },
    "tags": []
   },
   "outputs": [
    {
     "data": {
      "text/plain": [
       "EllipticEnvelope()"
      ]
     },
     "execution_count": 27,
     "metadata": {},
     "output_type": "execute_result"
    }
   ],
   "source": [
    "# Fit:\n",
    "outlier_detector.fit(features)"
   ]
  },
  {
   "cell_type": "code",
   "execution_count": 28,
   "id": "eb1a36ce",
   "metadata": {
    "execution": {
     "iopub.execute_input": "2022-07-29T09:12:55.181137Z",
     "iopub.status.busy": "2022-07-29T09:12:55.180716Z",
     "iopub.status.idle": "2022-07-29T09:12:55.187132Z",
     "shell.execute_reply": "2022-07-29T09:12:55.186366Z"
    },
    "papermill": {
     "duration": 0.050817,
     "end_time": "2022-07-29T09:12:55.189104",
     "exception": false,
     "start_time": "2022-07-29T09:12:55.138287",
     "status": "completed"
    },
    "tags": []
   },
   "outputs": [
    {
     "data": {
      "text/plain": [
       "array([-1,  1,  1,  1,  1,  1,  1,  1,  1,  1])"
      ]
     },
     "execution_count": 28,
     "metadata": {},
     "output_type": "execute_result"
    }
   ],
   "source": [
    "# Predict Outliers:\n",
    "outlier_detector.predict(features)"
   ]
  },
  {
   "attachments": {
    "741c0dcb-5353-4818-9948-fa49f7233428.png": {
     "image/png": "[encoded data removed]"
    }
   },
   "cell_type": "markdown",
   "id": "35cc1e7c",
   "metadata": {
    "papermill": {
     "duration": 0.039929,
     "end_time": "2022-07-29T09:12:55.269372",
     "exception": false,
     "start_time": "2022-07-29T09:12:55.229443",
     "status": "completed"
    },
    "tags": []
   },
   "source": [
    "<a id=\"11\"></a>\n",
    "\n",
    "\n",
    "### IQR Based Detection\n",
    "\n",
    "![image.png](attachment:741c0dcb-5353-4818-9948-fa49f7233428.png)"
   ]
  },
  {
   "cell_type": "code",
   "execution_count": 29,
   "id": "11bc6fc5",
   "metadata": {
    "execution": {
     "iopub.execute_input": "2022-07-29T09:12:55.352217Z",
     "iopub.status.busy": "2022-07-29T09:12:55.351845Z",
     "iopub.status.idle": "2022-07-29T09:12:55.356395Z",
     "shell.execute_reply": "2022-07-29T09:12:55.355581Z"
    },
    "papermill": {
     "duration": 0.048214,
     "end_time": "2022-07-29T09:12:55.358310",
     "exception": false,
     "start_time": "2022-07-29T09:12:55.310096",
     "status": "completed"
    },
    "tags": []
   },
   "outputs": [],
   "source": [
    "# Create one feature:\n",
    "feature=pd.DataFrame(features[:,0])"
   ]
  },
  {
   "cell_type": "code",
   "execution_count": 30,
   "id": "1be58f87",
   "metadata": {
    "execution": {
     "iopub.execute_input": "2022-07-29T09:12:55.441872Z",
     "iopub.status.busy": "2022-07-29T09:12:55.440961Z",
     "iopub.status.idle": "2022-07-29T09:12:55.451013Z",
     "shell.execute_reply": "2022-07-29T09:12:55.450186Z"
    },
    "papermill": {
     "duration": 0.054308,
     "end_time": "2022-07-29T09:12:55.453260",
     "exception": false,
     "start_time": "2022-07-29T09:12:55.398952",
     "status": "completed"
    },
    "tags": []
   },
   "outputs": [
    {
     "name": "stdout",
     "output_type": "stream",
     "text": [
      "First Quartile:  0   -1.890819\n",
      "Name: 0.25, dtype: float64\n",
      "Third Quartile:  0   -0.279537\n",
      "Name: 0.75, dtype: float64\n",
      "Interquartile:  0    1.611283\n",
      "dtype: float64\n"
     ]
    }
   ],
   "source": [
    "Q1=feature.quantile(0.25)\n",
    "Q3=feature.quantile(0.75)\n",
    "IQR=Q3-Q1\n",
    "print(\"First Quartile: \",Q1)\n",
    "print(\"Third Quartile: \",Q3)\n",
    "print(\"Interquartile: \",IQR)"
   ]
  },
  {
   "cell_type": "code",
   "execution_count": 31,
   "id": "401bbc31",
   "metadata": {
    "execution": {
     "iopub.execute_input": "2022-07-29T09:12:55.536037Z",
     "iopub.status.busy": "2022-07-29T09:12:55.535622Z",
     "iopub.status.idle": "2022-07-29T09:12:55.544227Z",
     "shell.execute_reply": "2022-07-29T09:12:55.543037Z"
    },
    "papermill": {
     "duration": 0.053193,
     "end_time": "2022-07-29T09:12:55.547128",
     "exception": false,
     "start_time": "2022-07-29T09:12:55.493935",
     "status": "completed"
    },
    "tags": []
   },
   "outputs": [
    {
     "name": "stdout",
     "output_type": "stream",
     "text": [
      "Lower Limit:  0   -4.307744\n",
      "dtype: float64\n",
      "Upper Limi:  0    2.137388\n",
      "dtype: float64\n"
     ]
    }
   ],
   "source": [
    "lower_limit=Q1-1.5*IQR\n",
    "upper_limit=Q3+1.5*IQR\n",
    "print(\"Lower Limit: \",lower_limit)\n",
    "print(\"Upper Limi: \",upper_limit)"
   ]
  },
  {
   "cell_type": "code",
   "execution_count": 32,
   "id": "48f7aa07",
   "metadata": {
    "execution": {
     "iopub.execute_input": "2022-07-29T09:12:55.632124Z",
     "iopub.status.busy": "2022-07-29T09:12:55.631360Z",
     "iopub.status.idle": "2022-07-29T09:12:55.641656Z",
     "shell.execute_reply": "2022-07-29T09:12:55.640839Z"
    },
    "papermill": {
     "duration": 0.055062,
     "end_time": "2022-07-29T09:12:55.643721",
     "exception": false,
     "start_time": "2022-07-29T09:12:55.588659",
     "status": "completed"
    },
    "tags": []
   },
   "outputs": [
    {
     "data": {
      "text/html": [
       "<div>\n",
       "<style scoped>\n",
       "    .dataframe tbody tr th:only-of-type {\n",
       "        vertical-align: middle;\n",
       "    }\n",
       "\n",
       "    .dataframe tbody tr th {\n",
       "        vertical-align: top;\n",
       "    }\n",
       "\n",
       "    .dataframe thead th {\n",
       "        text-align: right;\n",
       "    }\n",
       "</style>\n",
       "<table border=\"1\" class=\"dataframe\">\n",
       "  <thead>\n",
       "    <tr style=\"text-align: right;\">\n",
       "      <th></th>\n",
       "      <th>0</th>\n",
       "    </tr>\n",
       "  </thead>\n",
       "  <tbody>\n",
       "    <tr>\n",
       "      <th>0</th>\n",
       "      <td>True</td>\n",
       "    </tr>\n",
       "    <tr>\n",
       "      <th>1</th>\n",
       "      <td>False</td>\n",
       "    </tr>\n",
       "    <tr>\n",
       "      <th>2</th>\n",
       "      <td>False</td>\n",
       "    </tr>\n",
       "    <tr>\n",
       "      <th>3</th>\n",
       "      <td>False</td>\n",
       "    </tr>\n",
       "    <tr>\n",
       "      <th>4</th>\n",
       "      <td>False</td>\n",
       "    </tr>\n",
       "    <tr>\n",
       "      <th>5</th>\n",
       "      <td>False</td>\n",
       "    </tr>\n",
       "    <tr>\n",
       "      <th>6</th>\n",
       "      <td>False</td>\n",
       "    </tr>\n",
       "    <tr>\n",
       "      <th>7</th>\n",
       "      <td>False</td>\n",
       "    </tr>\n",
       "    <tr>\n",
       "      <th>8</th>\n",
       "      <td>False</td>\n",
       "    </tr>\n",
       "    <tr>\n",
       "      <th>9</th>\n",
       "      <td>False</td>\n",
       "    </tr>\n",
       "  </tbody>\n",
       "</table>\n",
       "</div>"
      ],
      "text/plain": [
       "       0\n",
       "0   True\n",
       "1  False\n",
       "2  False\n",
       "3  False\n",
       "4  False\n",
       "5  False\n",
       "6  False\n",
       "7  False\n",
       "8  False\n",
       "9  False"
      ]
     },
     "execution_count": 32,
     "metadata": {},
     "output_type": "execute_result"
    }
   ],
   "source": [
    "((feature<lower_limit) | (feature>upper_limit))"
   ]
  },
  {
   "cell_type": "markdown",
   "id": "0f3b7aa7",
   "metadata": {
    "papermill": {
     "duration": 0.103702,
     "end_time": "2022-07-29T09:12:55.788932",
     "exception": false,
     "start_time": "2022-07-29T09:12:55.685230",
     "status": "completed"
    },
    "tags": []
   },
   "source": [
    "For more about Outliers you can look : https://www.kaggle.com/code/hilalmleykeyuksel/statistical-learning-tutorial"
   ]
  },
  {
   "cell_type": "markdown",
   "id": "88e0ea1e",
   "metadata": {
    "papermill": {
     "duration": 0.040662,
     "end_time": "2022-07-29T09:12:55.870683",
     "exception": false,
     "start_time": "2022-07-29T09:12:55.830021",
     "status": "completed"
    },
    "tags": []
   },
   "source": [
    "<a id=\"12\"></a>\n",
    "\n",
    "\n",
    "# HANDLING OUTLIERS\n",
    "\n",
    "* Similar to detecting outliers, there is no hard-and-fast rule for handling them.\n",
    "* How we handle outliers should be based on two aspects:\n",
    "    1. We should consider what makes them an outlier.\n",
    "    1. How we handle outliers should be based on our goal for Machine Learning.\n",
    "\n",
    "**->** If we believe they are errors in the data such as from a broken sensor or a miscoded value, then we might drop the observation or replace outlier values with NaN since we can’t believe those values.\n",
    "\n",
    "**->** If we believe the outliers are genuine extreme values (a house with 200 bathrooms), then marking them as outliers or transforming their values is more appropriate.\n"
   ]
  },
  {
   "cell_type": "code",
   "execution_count": 33,
   "id": "95925ad7",
   "metadata": {
    "execution": {
     "iopub.execute_input": "2022-07-29T09:12:55.954871Z",
     "iopub.status.busy": "2022-07-29T09:12:55.954172Z",
     "iopub.status.idle": "2022-07-29T09:12:55.974757Z",
     "shell.execute_reply": "2022-07-29T09:12:55.973826Z"
    },
    "papermill": {
     "duration": 0.065317,
     "end_time": "2022-07-29T09:12:55.977027",
     "exception": false,
     "start_time": "2022-07-29T09:12:55.911710",
     "status": "completed"
    },
    "tags": []
   },
   "outputs": [
    {
     "data": {
      "text/html": [
       "<div>\n",
       "<style scoped>\n",
       "    .dataframe tbody tr th:only-of-type {\n",
       "        vertical-align: middle;\n",
       "    }\n",
       "\n",
       "    .dataframe tbody tr th {\n",
       "        vertical-align: top;\n",
       "    }\n",
       "\n",
       "    .dataframe thead th {\n",
       "        text-align: right;\n",
       "    }\n",
       "</style>\n",
       "<table border=\"1\" class=\"dataframe\">\n",
       "  <thead>\n",
       "    <tr style=\"text-align: right;\">\n",
       "      <th></th>\n",
       "      <th>Price</th>\n",
       "      <th>Kitchens</th>\n",
       "      <th>Square_Meter</th>\n",
       "    </tr>\n",
       "  </thead>\n",
       "  <tbody>\n",
       "    <tr>\n",
       "      <th>0</th>\n",
       "      <td>600000</td>\n",
       "      <td>3.0</td>\n",
       "      <td>250</td>\n",
       "    </tr>\n",
       "    <tr>\n",
       "      <th>1</th>\n",
       "      <td>850000</td>\n",
       "      <td>5.7</td>\n",
       "      <td>300</td>\n",
       "    </tr>\n",
       "    <tr>\n",
       "      <th>2</th>\n",
       "      <td>350000</td>\n",
       "      <td>2.0</td>\n",
       "      <td>600</td>\n",
       "    </tr>\n",
       "    <tr>\n",
       "      <th>3</th>\n",
       "      <td>450000</td>\n",
       "      <td>250.0</td>\n",
       "      <td>15000</td>\n",
       "    </tr>\n",
       "  </tbody>\n",
       "</table>\n",
       "</div>"
      ],
      "text/plain": [
       "    Price  Kitchens  Square_Meter\n",
       "0  600000       3.0           250\n",
       "1  850000       5.7           300\n",
       "2  350000       2.0           600\n",
       "3  450000     250.0         15000"
      ]
     },
     "execution_count": 33,
     "metadata": {},
     "output_type": "execute_result"
    }
   ],
   "source": [
    "# Lets create a data set:\n",
    "houses=pd.DataFrame()\n",
    "houses[\"Price\"]=[600000,850000,350000,450000]\n",
    "houses[\"Kitchens\"]=[3,5.7,2,250]\n",
    "houses[\"Square_Meter\"]=[250,300,600,15000]\n",
    "houses.head()"
   ]
  },
  {
   "cell_type": "code",
   "execution_count": 34,
   "id": "424743ac",
   "metadata": {
    "execution": {
     "iopub.execute_input": "2022-07-29T09:12:56.060995Z",
     "iopub.status.busy": "2022-07-29T09:12:56.060308Z",
     "iopub.status.idle": "2022-07-29T09:12:56.070779Z",
     "shell.execute_reply": "2022-07-29T09:12:56.069297Z"
    },
    "papermill": {
     "duration": 0.055656,
     "end_time": "2022-07-29T09:12:56.073789",
     "exception": false,
     "start_time": "2022-07-29T09:12:56.018133",
     "status": "completed"
    },
    "tags": []
   },
   "outputs": [
    {
     "name": "stdout",
     "output_type": "stream",
     "text": [
      "First Quartile:  2.75\n",
      "Third Quartile:  66.775\n",
      "Interquartile:  64.025\n",
      "*********************************************************\n",
      "Lower Limit:  -93.28750000000001\n",
      "Upper Limi:  162.8125\n"
     ]
    }
   ],
   "source": [
    "Q1=houses[\"Kitchens\"].quantile(0.25)\n",
    "Q3=houses[\"Kitchens\"].quantile(0.75)\n",
    "IQR=Q3-Q1\n",
    "print(\"First Quartile: \",Q1)\n",
    "print(\"Third Quartile: \",Q3)\n",
    "print(\"Interquartile: \",IQR)\n",
    "print(\"*********************************************************\")\n",
    "lower_limit=Q1-1.5*IQR\n",
    "upper_limit=Q3+1.5*IQR\n",
    "print(\"Lower Limit: \",lower_limit)\n",
    "print(\"Upper Limi: \",upper_limit)"
   ]
  },
  {
   "cell_type": "code",
   "execution_count": 35,
   "id": "46f57c06",
   "metadata": {
    "execution": {
     "iopub.execute_input": "2022-07-29T09:12:56.159595Z",
     "iopub.status.busy": "2022-07-29T09:12:56.159235Z",
     "iopub.status.idle": "2022-07-29T09:12:56.167880Z",
     "shell.execute_reply": "2022-07-29T09:12:56.166716Z"
    },
    "papermill": {
     "duration": 0.054534,
     "end_time": "2022-07-29T09:12:56.170084",
     "exception": false,
     "start_time": "2022-07-29T09:12:56.115550",
     "status": "completed"
    },
    "tags": []
   },
   "outputs": [
    {
     "data": {
      "text/plain": [
       "0    False\n",
       "1    False\n",
       "2    False\n",
       "3     True\n",
       "Name: Kitchens, dtype: bool"
      ]
     },
     "execution_count": 35,
     "metadata": {},
     "output_type": "execute_result"
    }
   ],
   "source": [
    "((houses[\"Kitchens\"]<lower_limit) | (houses[\"Kitchens\"]>upper_limit))"
   ]
  },
  {
   "cell_type": "markdown",
   "id": "a3b6fb8e",
   "metadata": {
    "papermill": {
     "duration": 0.040736,
     "end_time": "2022-07-29T09:12:56.252076",
     "exception": false,
     "start_time": "2022-07-29T09:12:56.211340",
     "status": "completed"
    },
    "tags": []
   },
   "source": [
    "<a id=\"13\"></a>\n",
    "\n",
    "### 1. Trimming / Remove\n",
    "* Data trimming is the process of removing or excluding extreme values, or outliers, from a data set."
   ]
  },
  {
   "cell_type": "code",
   "execution_count": 36,
   "id": "2dcb61da",
   "metadata": {
    "execution": {
     "iopub.execute_input": "2022-07-29T09:12:56.336781Z",
     "iopub.status.busy": "2022-07-29T09:12:56.335715Z",
     "iopub.status.idle": "2022-07-29T09:12:56.341269Z",
     "shell.execute_reply": "2022-07-29T09:12:56.340314Z"
    },
    "papermill": {
     "duration": 0.050199,
     "end_time": "2022-07-29T09:12:56.343342",
     "exception": false,
     "start_time": "2022-07-29T09:12:56.293143",
     "status": "completed"
    },
    "tags": []
   },
   "outputs": [],
   "source": [
    "house_kitchen=pd.DataFrame(houses[\"Kitchens\"])"
   ]
  },
  {
   "cell_type": "code",
   "execution_count": 37,
   "id": "98c31309",
   "metadata": {
    "execution": {
     "iopub.execute_input": "2022-07-29T09:12:56.428616Z",
     "iopub.status.busy": "2022-07-29T09:12:56.428219Z",
     "iopub.status.idle": "2022-07-29T09:12:56.443152Z",
     "shell.execute_reply": "2022-07-29T09:12:56.442054Z"
    },
    "papermill": {
     "duration": 0.060359,
     "end_time": "2022-07-29T09:12:56.445321",
     "exception": false,
     "start_time": "2022-07-29T09:12:56.384962",
     "status": "completed"
    },
    "tags": []
   },
   "outputs": [
    {
     "data": {
      "text/html": [
       "<div>\n",
       "<style scoped>\n",
       "    .dataframe tbody tr th:only-of-type {\n",
       "        vertical-align: middle;\n",
       "    }\n",
       "\n",
       "    .dataframe tbody tr th {\n",
       "        vertical-align: top;\n",
       "    }\n",
       "\n",
       "    .dataframe thead th {\n",
       "        text-align: right;\n",
       "    }\n",
       "</style>\n",
       "<table border=\"1\" class=\"dataframe\">\n",
       "  <thead>\n",
       "    <tr style=\"text-align: right;\">\n",
       "      <th></th>\n",
       "      <th>Kitchens</th>\n",
       "    </tr>\n",
       "  </thead>\n",
       "  <tbody>\n",
       "    <tr>\n",
       "      <th>0</th>\n",
       "      <td>3.0</td>\n",
       "    </tr>\n",
       "    <tr>\n",
       "      <th>1</th>\n",
       "      <td>5.7</td>\n",
       "    </tr>\n",
       "    <tr>\n",
       "      <th>2</th>\n",
       "      <td>2.0</td>\n",
       "    </tr>\n",
       "  </tbody>\n",
       "</table>\n",
       "</div>"
      ],
      "text/plain": [
       "   Kitchens\n",
       "0       3.0\n",
       "1       5.7\n",
       "2       2.0"
      ]
     },
     "execution_count": 37,
     "metadata": {},
     "output_type": "execute_result"
    }
   ],
   "source": [
    "trim_outlier_houses_data=house_kitchen[~((house_kitchen<(lower_limit)) | (house_kitchen>(upper_limit))).any(axis=1)]\n",
    "trim_outlier_houses_data"
   ]
  },
  {
   "cell_type": "markdown",
   "id": "6e995a07",
   "metadata": {
    "papermill": {
     "duration": 0.040891,
     "end_time": "2022-07-29T09:12:56.527495",
     "exception": false,
     "start_time": "2022-07-29T09:12:56.486604",
     "status": "completed"
    },
    "tags": []
   },
   "source": [
    "<a id=\"14\"></a>\n",
    "\n",
    "### 2. Imputation\n",
    "* Outliers are imputed with some representative values and statistical methods. (Mean, Median)"
   ]
  },
  {
   "cell_type": "code",
   "execution_count": 38,
   "id": "47c8bb7d",
   "metadata": {
    "execution": {
     "iopub.execute_input": "2022-07-29T09:12:56.612482Z",
     "iopub.status.busy": "2022-07-29T09:12:56.611776Z",
     "iopub.status.idle": "2022-07-29T09:12:56.619879Z",
     "shell.execute_reply": "2022-07-29T09:12:56.619054Z"
    },
    "papermill": {
     "duration": 0.052992,
     "end_time": "2022-07-29T09:12:56.621838",
     "exception": false,
     "start_time": "2022-07-29T09:12:56.568846",
     "status": "completed"
    },
    "tags": []
   },
   "outputs": [
    {
     "data": {
      "text/plain": [
       "0    False\n",
       "1    False\n",
       "2    False\n",
       "3     True\n",
       "Name: Kitchens, dtype: bool"
      ]
     },
     "execution_count": 38,
     "metadata": {},
     "output_type": "execute_result"
    }
   ],
   "source": [
    "outlier_TF=((houses[\"Kitchens\"]<lower_limit) | (houses[\"Kitchens\"]>upper_limit))\n",
    "outlier_TF"
   ]
  },
  {
   "cell_type": "code",
   "execution_count": 39,
   "id": "8fa4eabd",
   "metadata": {
    "execution": {
     "iopub.execute_input": "2022-07-29T09:12:56.706834Z",
     "iopub.status.busy": "2022-07-29T09:12:56.706111Z",
     "iopub.status.idle": "2022-07-29T09:12:56.711426Z",
     "shell.execute_reply": "2022-07-29T09:12:56.710419Z"
    },
    "papermill": {
     "duration": 0.05039,
     "end_time": "2022-07-29T09:12:56.713697",
     "exception": false,
     "start_time": "2022-07-29T09:12:56.663307",
     "status": "completed"
    },
    "tags": []
   },
   "outputs": [],
   "source": [
    "house_kitchen_mean=pd.DataFrame(houses[\"Kitchens\"])"
   ]
  },
  {
   "cell_type": "code",
   "execution_count": 40,
   "id": "cb6c878f",
   "metadata": {
    "execution": {
     "iopub.execute_input": "2022-07-29T09:12:56.798673Z",
     "iopub.status.busy": "2022-07-29T09:12:56.797990Z",
     "iopub.status.idle": "2022-07-29T09:12:56.807808Z",
     "shell.execute_reply": "2022-07-29T09:12:56.806978Z"
    },
    "papermill": {
     "duration": 0.054744,
     "end_time": "2022-07-29T09:12:56.809858",
     "exception": false,
     "start_time": "2022-07-29T09:12:56.755114",
     "status": "completed"
    },
    "tags": []
   },
   "outputs": [
    {
     "data": {
      "text/html": [
       "<div>\n",
       "<style scoped>\n",
       "    .dataframe tbody tr th:only-of-type {\n",
       "        vertical-align: middle;\n",
       "    }\n",
       "\n",
       "    .dataframe tbody tr th {\n",
       "        vertical-align: top;\n",
       "    }\n",
       "\n",
       "    .dataframe thead th {\n",
       "        text-align: right;\n",
       "    }\n",
       "</style>\n",
       "<table border=\"1\" class=\"dataframe\">\n",
       "  <thead>\n",
       "    <tr style=\"text-align: right;\">\n",
       "      <th></th>\n",
       "      <th>Kitchens</th>\n",
       "    </tr>\n",
       "  </thead>\n",
       "  <tbody>\n",
       "    <tr>\n",
       "      <th>0</th>\n",
       "      <td>3.000</td>\n",
       "    </tr>\n",
       "    <tr>\n",
       "      <th>1</th>\n",
       "      <td>5.700</td>\n",
       "    </tr>\n",
       "    <tr>\n",
       "      <th>2</th>\n",
       "      <td>2.000</td>\n",
       "    </tr>\n",
       "    <tr>\n",
       "      <th>3</th>\n",
       "      <td>65.175</td>\n",
       "    </tr>\n",
       "  </tbody>\n",
       "</table>\n",
       "</div>"
      ],
      "text/plain": [
       "   Kitchens\n",
       "0     3.000\n",
       "1     5.700\n",
       "2     2.000\n",
       "3    65.175"
      ]
     },
     "execution_count": 40,
     "metadata": {},
     "output_type": "execute_result"
    }
   ],
   "source": [
    "house_kitchen_mean[outlier_TF]=house_kitchen_mean.mean()\n",
    "house_kitchen_mean"
   ]
  },
  {
   "cell_type": "markdown",
   "id": "bf74b533",
   "metadata": {
    "papermill": {
     "duration": 0.04187,
     "end_time": "2022-07-29T09:12:56.893270",
     "exception": false,
     "start_time": "2022-07-29T09:12:56.851400",
     "status": "completed"
    },
    "tags": []
   },
   "source": [
    " It's steel outlier for our data set. 😅😅 65 Kitchen!?"
   ]
  },
  {
   "cell_type": "code",
   "execution_count": 41,
   "id": "5f3113b1",
   "metadata": {
    "execution": {
     "iopub.execute_input": "2022-07-29T09:12:56.979961Z",
     "iopub.status.busy": "2022-07-29T09:12:56.979545Z",
     "iopub.status.idle": "2022-07-29T09:12:56.984887Z",
     "shell.execute_reply": "2022-07-29T09:12:56.983866Z"
    },
    "papermill": {
     "duration": 0.051294,
     "end_time": "2022-07-29T09:12:56.987078",
     "exception": false,
     "start_time": "2022-07-29T09:12:56.935784",
     "status": "completed"
    },
    "tags": []
   },
   "outputs": [],
   "source": [
    "house_kitchen_median=pd.DataFrame(houses[\"Kitchens\"])"
   ]
  },
  {
   "cell_type": "code",
   "execution_count": 42,
   "id": "73a4de7d",
   "metadata": {
    "execution": {
     "iopub.execute_input": "2022-07-29T09:12:57.073076Z",
     "iopub.status.busy": "2022-07-29T09:12:57.072375Z",
     "iopub.status.idle": "2022-07-29T09:12:57.083157Z",
     "shell.execute_reply": "2022-07-29T09:12:57.082105Z"
    },
    "papermill": {
     "duration": 0.056426,
     "end_time": "2022-07-29T09:12:57.085352",
     "exception": false,
     "start_time": "2022-07-29T09:12:57.028926",
     "status": "completed"
    },
    "tags": []
   },
   "outputs": [
    {
     "data": {
      "text/html": [
       "<div>\n",
       "<style scoped>\n",
       "    .dataframe tbody tr th:only-of-type {\n",
       "        vertical-align: middle;\n",
       "    }\n",
       "\n",
       "    .dataframe tbody tr th {\n",
       "        vertical-align: top;\n",
       "    }\n",
       "\n",
       "    .dataframe thead th {\n",
       "        text-align: right;\n",
       "    }\n",
       "</style>\n",
       "<table border=\"1\" class=\"dataframe\">\n",
       "  <thead>\n",
       "    <tr style=\"text-align: right;\">\n",
       "      <th></th>\n",
       "      <th>Kitchens</th>\n",
       "    </tr>\n",
       "  </thead>\n",
       "  <tbody>\n",
       "    <tr>\n",
       "      <th>0</th>\n",
       "      <td>3.00</td>\n",
       "    </tr>\n",
       "    <tr>\n",
       "      <th>1</th>\n",
       "      <td>5.70</td>\n",
       "    </tr>\n",
       "    <tr>\n",
       "      <th>2</th>\n",
       "      <td>2.00</td>\n",
       "    </tr>\n",
       "    <tr>\n",
       "      <th>3</th>\n",
       "      <td>4.35</td>\n",
       "    </tr>\n",
       "  </tbody>\n",
       "</table>\n",
       "</div>"
      ],
      "text/plain": [
       "   Kitchens\n",
       "0      3.00\n",
       "1      5.70\n",
       "2      2.00\n",
       "3      4.35"
      ]
     },
     "execution_count": 42,
     "metadata": {},
     "output_type": "execute_result"
    }
   ],
   "source": [
    "# Let's try Median\n",
    "house_kitchen_median[outlier_TF]=house_kitchen_median.median()\n",
    "house_kitchen_median"
   ]
  },
  {
   "cell_type": "markdown",
   "id": "116cf9b0",
   "metadata": {
    "papermill": {
     "duration": 0.04186,
     "end_time": "2022-07-29T09:12:57.169615",
     "exception": false,
     "start_time": "2022-07-29T09:12:57.127755",
     "status": "completed"
    },
    "tags": []
   },
   "source": [
    "Median is better 😀"
   ]
  },
  {
   "cell_type": "markdown",
   "id": "fa4efb52",
   "metadata": {
    "papermill": {
     "duration": 0.0414,
     "end_time": "2022-07-29T09:12:57.252848",
     "exception": false,
     "start_time": "2022-07-29T09:12:57.211448",
     "status": "completed"
    },
    "tags": []
   },
   "source": [
    "<a id=\"15\"></a>\n",
    "\n",
    "### 3. Winsorization\n",
    "* Winsorization is the process of replacing the extreme values of statistical data in order to limit the effect of the outliers on the calculations or the results obtained by using that data."
   ]
  },
  {
   "cell_type": "code",
   "execution_count": 43,
   "id": "f5b9cc3a",
   "metadata": {
    "execution": {
     "iopub.execute_input": "2022-07-29T09:12:57.338640Z",
     "iopub.status.busy": "2022-07-29T09:12:57.337974Z",
     "iopub.status.idle": "2022-07-29T09:12:57.347416Z",
     "shell.execute_reply": "2022-07-29T09:12:57.346372Z"
    },
    "papermill": {
     "duration": 0.05491,
     "end_time": "2022-07-29T09:12:57.349598",
     "exception": false,
     "start_time": "2022-07-29T09:12:57.294688",
     "status": "completed"
    },
    "tags": []
   },
   "outputs": [
    {
     "data": {
      "text/html": [
       "<div>\n",
       "<style scoped>\n",
       "    .dataframe tbody tr th:only-of-type {\n",
       "        vertical-align: middle;\n",
       "    }\n",
       "\n",
       "    .dataframe tbody tr th {\n",
       "        vertical-align: top;\n",
       "    }\n",
       "\n",
       "    .dataframe thead th {\n",
       "        text-align: right;\n",
       "    }\n",
       "</style>\n",
       "<table border=\"1\" class=\"dataframe\">\n",
       "  <thead>\n",
       "    <tr style=\"text-align: right;\">\n",
       "      <th></th>\n",
       "      <th>Kitchens</th>\n",
       "    </tr>\n",
       "  </thead>\n",
       "  <tbody>\n",
       "    <tr>\n",
       "      <th>0</th>\n",
       "      <td>3.0</td>\n",
       "    </tr>\n",
       "    <tr>\n",
       "      <th>1</th>\n",
       "      <td>5.7</td>\n",
       "    </tr>\n",
       "    <tr>\n",
       "      <th>2</th>\n",
       "      <td>2.0</td>\n",
       "    </tr>\n",
       "    <tr>\n",
       "      <th>3</th>\n",
       "      <td>250.0</td>\n",
       "    </tr>\n",
       "  </tbody>\n",
       "</table>\n",
       "</div>"
      ],
      "text/plain": [
       "   Kitchens\n",
       "0       3.0\n",
       "1       5.7\n",
       "2       2.0\n",
       "3     250.0"
      ]
     },
     "execution_count": 43,
     "metadata": {},
     "output_type": "execute_result"
    }
   ],
   "source": [
    "house_kitchen_winsorization=pd.DataFrame(houses[\"Kitchens\"])\n",
    "house_kitchen_winsorization"
   ]
  },
  {
   "cell_type": "code",
   "execution_count": 44,
   "id": "471d7afd",
   "metadata": {
    "execution": {
     "iopub.execute_input": "2022-07-29T09:12:57.435878Z",
     "iopub.status.busy": "2022-07-29T09:12:57.435219Z",
     "iopub.status.idle": "2022-07-29T09:12:57.444410Z",
     "shell.execute_reply": "2022-07-29T09:12:57.443277Z"
    },
    "papermill": {
     "duration": 0.054695,
     "end_time": "2022-07-29T09:12:57.446526",
     "exception": false,
     "start_time": "2022-07-29T09:12:57.391831",
     "status": "completed"
    },
    "tags": []
   },
   "outputs": [
    {
     "data": {
      "text/html": [
       "<div>\n",
       "<style scoped>\n",
       "    .dataframe tbody tr th:only-of-type {\n",
       "        vertical-align: middle;\n",
       "    }\n",
       "\n",
       "    .dataframe tbody tr th {\n",
       "        vertical-align: top;\n",
       "    }\n",
       "\n",
       "    .dataframe thead th {\n",
       "        text-align: right;\n",
       "    }\n",
       "</style>\n",
       "<table border=\"1\" class=\"dataframe\">\n",
       "  <thead>\n",
       "    <tr style=\"text-align: right;\">\n",
       "      <th></th>\n",
       "      <th>Kitchens</th>\n",
       "    </tr>\n",
       "  </thead>\n",
       "  <tbody>\n",
       "    <tr>\n",
       "      <th>0</th>\n",
       "      <td>3.0000</td>\n",
       "    </tr>\n",
       "    <tr>\n",
       "      <th>1</th>\n",
       "      <td>5.7000</td>\n",
       "    </tr>\n",
       "    <tr>\n",
       "      <th>2</th>\n",
       "      <td>2.0000</td>\n",
       "    </tr>\n",
       "    <tr>\n",
       "      <th>3</th>\n",
       "      <td>-93.2875</td>\n",
       "    </tr>\n",
       "  </tbody>\n",
       "</table>\n",
       "</div>"
      ],
      "text/plain": [
       "   Kitchens\n",
       "0    3.0000\n",
       "1    5.7000\n",
       "2    2.0000\n",
       "3  -93.2875"
      ]
     },
     "execution_count": 44,
     "metadata": {},
     "output_type": "execute_result"
    }
   ],
   "source": [
    "house_kitchen_winsorization[outlier_TF]=lower_limit\n",
    "house_kitchen_winsorization"
   ]
  },
  {
   "cell_type": "markdown",
   "id": "a777c9b6",
   "metadata": {
    "papermill": {
     "duration": 0.041779,
     "end_time": "2022-07-29T09:12:57.530464",
     "exception": false,
     "start_time": "2022-07-29T09:12:57.488685",
     "status": "completed"
    },
    "tags": []
   },
   "source": [
    "Negative value kitchen 🤦‍♀️🤦‍♀️🤦‍♀️"
   ]
  },
  {
   "cell_type": "markdown",
   "id": "e27ef1b0",
   "metadata": {
    "papermill": {
     "duration": 0.042357,
     "end_time": "2022-07-29T09:12:57.615185",
     "exception": false,
     "start_time": "2022-07-29T09:12:57.572828",
     "status": "completed"
    },
    "tags": []
   },
   "source": [
    "<a id=\"16\"></a>\n",
    "\n",
    "# DISCRETIZATION FEATURES\n",
    "\n",
    "* Discretization can be a fruitful strategy when we have reason to believe that a numerical feature should behave more like a categorical feature.\n",
    "* Depending on how we want to break up the data, there are two techniques we can use:\n",
    "    1. Binarize (Scikit-Learn)\n",
    "    2. Digitize(NumPy)"
   ]
  },
  {
   "cell_type": "code",
   "execution_count": 45,
   "id": "49ff8e68",
   "metadata": {
    "execution": {
     "iopub.execute_input": "2022-07-29T09:12:57.701620Z",
     "iopub.status.busy": "2022-07-29T09:12:57.700925Z",
     "iopub.status.idle": "2022-07-29T09:12:57.706229Z",
     "shell.execute_reply": "2022-07-29T09:12:57.705217Z"
    },
    "papermill": {
     "duration": 0.051208,
     "end_time": "2022-07-29T09:12:57.708420",
     "exception": false,
     "start_time": "2022-07-29T09:12:57.657212",
     "status": "completed"
    },
    "tags": []
   },
   "outputs": [],
   "source": [
    "age=np.array([\n",
    "    [12],\n",
    "    [73],\n",
    "    [25],\n",
    "    [42],\n",
    "    [9],\n",
    "    [37]\n",
    "])"
   ]
  },
  {
   "cell_type": "markdown",
   "id": "b390a88d",
   "metadata": {
    "papermill": {
     "duration": 0.042012,
     "end_time": "2022-07-29T09:12:57.793368",
     "exception": false,
     "start_time": "2022-07-29T09:12:57.751356",
     "status": "completed"
    },
    "tags": []
   },
   "source": [
    "> You have a numerical feature and want to break it up into discrete bins."
   ]
  },
  {
   "cell_type": "markdown",
   "id": "b18cfa25",
   "metadata": {
    "papermill": {
     "duration": 0.04211,
     "end_time": "2022-07-29T09:12:57.877617",
     "exception": false,
     "start_time": "2022-07-29T09:12:57.835507",
     "status": "completed"
    },
    "tags": []
   },
   "source": [
    "<a id=\"17\"></a>\n",
    "\n",
    "### Binarize (Scikit-Learn)"
   ]
  },
  {
   "cell_type": "code",
   "execution_count": 46,
   "id": "bf33263f",
   "metadata": {
    "execution": {
     "iopub.execute_input": "2022-07-29T09:12:57.969741Z",
     "iopub.status.busy": "2022-07-29T09:12:57.969062Z",
     "iopub.status.idle": "2022-07-29T09:12:57.973054Z",
     "shell.execute_reply": "2022-07-29T09:12:57.972314Z"
    },
    "papermill": {
     "duration": 0.055255,
     "end_time": "2022-07-29T09:12:57.975140",
     "exception": false,
     "start_time": "2022-07-29T09:12:57.919885",
     "status": "completed"
    },
    "tags": []
   },
   "outputs": [],
   "source": [
    "from sklearn.preprocessing import Binarizer"
   ]
  },
  {
   "cell_type": "code",
   "execution_count": 47,
   "id": "54cc2f18",
   "metadata": {
    "execution": {
     "iopub.execute_input": "2022-07-29T09:12:58.062497Z",
     "iopub.status.busy": "2022-07-29T09:12:58.061789Z",
     "iopub.status.idle": "2022-07-29T09:12:58.068554Z",
     "shell.execute_reply": "2022-07-29T09:12:58.067551Z"
    },
    "papermill": {
     "duration": 0.052244,
     "end_time": "2022-07-29T09:12:58.070542",
     "exception": false,
     "start_time": "2022-07-29T09:12:58.018298",
     "status": "completed"
    },
    "tags": []
   },
   "outputs": [
    {
     "data": {
      "text/plain": [
       "array([[0],\n",
       "       [1],\n",
       "       [1],\n",
       "       [1],\n",
       "       [0],\n",
       "       [1]])"
      ]
     },
     "execution_count": 47,
     "metadata": {},
     "output_type": "execute_result"
    }
   ],
   "source": [
    "binarizer=Binarizer(threshold=18)\n",
    "binarizer.fit_transform(age)\n",
    "# Convert values which is 18 and smaller then 18 = 0\n",
    "# Bigger than 18 = 1"
   ]
  },
  {
   "cell_type": "markdown",
   "id": "7dc1a940",
   "metadata": {
    "papermill": {
     "duration": 0.042266,
     "end_time": "2022-07-29T09:12:58.155118",
     "exception": false,
     "start_time": "2022-07-29T09:12:58.112852",
     "status": "completed"
    },
    "tags": []
   },
   "source": [
    "<a id=\"18\"></a>\n",
    "\n",
    "### Digitize (NumPy)"
   ]
  },
  {
   "cell_type": "code",
   "execution_count": 48,
   "id": "e8b7ca0f",
   "metadata": {
    "execution": {
     "iopub.execute_input": "2022-07-29T09:12:58.241890Z",
     "iopub.status.busy": "2022-07-29T09:12:58.241220Z",
     "iopub.status.idle": "2022-07-29T09:12:58.247076Z",
     "shell.execute_reply": "2022-07-29T09:12:58.246327Z"
    },
    "papermill": {
     "duration": 0.051443,
     "end_time": "2022-07-29T09:12:58.248999",
     "exception": false,
     "start_time": "2022-07-29T09:12:58.197556",
     "status": "completed"
    },
    "tags": []
   },
   "outputs": [
    {
     "data": {
      "text/plain": [
       "array([[0],\n",
       "       [1],\n",
       "       [1],\n",
       "       [1],\n",
       "       [0],\n",
       "       [1]])"
      ]
     },
     "execution_count": 48,
     "metadata": {},
     "output_type": "execute_result"
    }
   ],
   "source": [
    "np.digitize(age,bins=[20])\n",
    "# Convert values which is 20 and smaller then 20 = 0\n",
    "# Bigger than 20 = 1"
   ]
  },
  {
   "cell_type": "code",
   "execution_count": 49,
   "id": "63346564",
   "metadata": {
    "execution": {
     "iopub.execute_input": "2022-07-29T09:12:58.335879Z",
     "iopub.status.busy": "2022-07-29T09:12:58.335203Z",
     "iopub.status.idle": "2022-07-29T09:12:58.341293Z",
     "shell.execute_reply": "2022-07-29T09:12:58.340575Z"
    },
    "papermill": {
     "duration": 0.051878,
     "end_time": "2022-07-29T09:12:58.343184",
     "exception": false,
     "start_time": "2022-07-29T09:12:58.291306",
     "status": "completed"
    },
    "tags": []
   },
   "outputs": [
    {
     "data": {
      "text/plain": [
       "array([[0],\n",
       "       [3],\n",
       "       [1],\n",
       "       [2],\n",
       "       [0],\n",
       "       [2]])"
      ]
     },
     "execution_count": 49,
     "metadata": {},
     "output_type": "execute_result"
    }
   ],
   "source": [
    "# Multiple Threshold:\n",
    "np.digitize(age,bins=[20,30,70])"
   ]
  },
  {
   "cell_type": "markdown",
   "id": "250b4f19",
   "metadata": {
    "papermill": {
     "duration": 0.042132,
     "end_time": "2022-07-29T09:12:58.428000",
     "exception": false,
     "start_time": "2022-07-29T09:12:58.385868",
     "status": "completed"
    },
    "tags": []
   },
   "source": [
    "<a id=\"19\"></a>\n",
    "\n",
    "# GROUPING OBSERVATIONS USING CLUSTERING\n",
    "\n",
    "* If you know that you have k groups, you can use k-means clustering to group similar observations and output a new feature containing each observation’s group membership."
   ]
  },
  {
   "cell_type": "markdown",
   "id": "f51c3003",
   "metadata": {
    "papermill": {
     "duration": 0.042525,
     "end_time": "2022-07-29T09:12:58.514142",
     "exception": false,
     "start_time": "2022-07-29T09:12:58.471617",
     "status": "completed"
    },
    "tags": []
   },
   "source": [
    "> You want to cluster observations so that similar observations are grouped\n",
    "together."
   ]
  },
  {
   "cell_type": "markdown",
   "id": "fe0f17ab",
   "metadata": {
    "papermill": {
     "duration": 0.042686,
     "end_time": "2022-07-29T09:12:58.599609",
     "exception": false,
     "start_time": "2022-07-29T09:12:58.556923",
     "status": "completed"
    },
    "tags": []
   },
   "source": [
    "<a id=\"20\"></a>\n",
    "\n",
    "\n",
    "### K-Means\n",
    "\n",
    "* In K-Means Clustering, the algorithm attempts to group observations into k groups, with each group having **roughly equal variance**."
   ]
  },
  {
   "cell_type": "code",
   "execution_count": 50,
   "id": "2f6e1b9f",
   "metadata": {
    "execution": {
     "iopub.execute_input": "2022-07-29T09:12:58.687190Z",
     "iopub.status.busy": "2022-07-29T09:12:58.686536Z",
     "iopub.status.idle": "2022-07-29T09:12:58.832405Z",
     "shell.execute_reply": "2022-07-29T09:12:58.831359Z"
    },
    "papermill": {
     "duration": 0.193067,
     "end_time": "2022-07-29T09:12:58.835244",
     "exception": false,
     "start_time": "2022-07-29T09:12:58.642177",
     "status": "completed"
    },
    "tags": []
   },
   "outputs": [],
   "source": [
    "from sklearn.datasets import make_blobs\n",
    "from sklearn.cluster import KMeans"
   ]
  },
  {
   "cell_type": "code",
   "execution_count": 51,
   "id": "8df08854",
   "metadata": {
    "execution": {
     "iopub.execute_input": "2022-07-29T09:12:58.924441Z",
     "iopub.status.busy": "2022-07-29T09:12:58.923858Z",
     "iopub.status.idle": "2022-07-29T09:12:58.935071Z",
     "shell.execute_reply": "2022-07-29T09:12:58.934295Z"
    },
    "papermill": {
     "duration": 0.057956,
     "end_time": "2022-07-29T09:12:58.937163",
     "exception": false,
     "start_time": "2022-07-29T09:12:58.879207",
     "status": "completed"
    },
    "tags": []
   },
   "outputs": [
    {
     "data": {
      "text/html": [
       "<div>\n",
       "<style scoped>\n",
       "    .dataframe tbody tr th:only-of-type {\n",
       "        vertical-align: middle;\n",
       "    }\n",
       "\n",
       "    .dataframe tbody tr th {\n",
       "        vertical-align: top;\n",
       "    }\n",
       "\n",
       "    .dataframe thead th {\n",
       "        text-align: right;\n",
       "    }\n",
       "</style>\n",
       "<table border=\"1\" class=\"dataframe\">\n",
       "  <thead>\n",
       "    <tr style=\"text-align: right;\">\n",
       "      <th></th>\n",
       "      <th>F_1</th>\n",
       "      <th>F_2</th>\n",
       "    </tr>\n",
       "  </thead>\n",
       "  <tbody>\n",
       "    <tr>\n",
       "      <th>0</th>\n",
       "      <td>-9.877554</td>\n",
       "      <td>-3.336145</td>\n",
       "    </tr>\n",
       "    <tr>\n",
       "      <th>1</th>\n",
       "      <td>-7.287210</td>\n",
       "      <td>-8.353986</td>\n",
       "    </tr>\n",
       "    <tr>\n",
       "      <th>2</th>\n",
       "      <td>-6.943061</td>\n",
       "      <td>-7.023744</td>\n",
       "    </tr>\n",
       "    <tr>\n",
       "      <th>3</th>\n",
       "      <td>-7.440167</td>\n",
       "      <td>-8.791959</td>\n",
       "    </tr>\n",
       "    <tr>\n",
       "      <th>4</th>\n",
       "      <td>-6.641388</td>\n",
       "      <td>-8.075888</td>\n",
       "    </tr>\n",
       "  </tbody>\n",
       "</table>\n",
       "</div>"
      ],
      "text/plain": [
       "        F_1       F_2\n",
       "0 -9.877554 -3.336145\n",
       "1 -7.287210 -8.353986\n",
       "2 -6.943061 -7.023744\n",
       "3 -7.440167 -8.791959\n",
       "4 -6.641388 -8.075888"
      ]
     },
     "execution_count": 51,
     "metadata": {},
     "output_type": "execute_result"
    }
   ],
   "source": [
    "# Create Data Frame:\n",
    "features,_=make_blobs(n_samples=50,\n",
    "                    n_features=2,\n",
    "                    centers=3,\n",
    "                    random_state=1)\n",
    "data=pd.DataFrame(features,columns=[\"F_1\",\"F_2\"])\n",
    "data.head()"
   ]
  },
  {
   "cell_type": "code",
   "execution_count": 52,
   "id": "0413bd12",
   "metadata": {
    "execution": {
     "iopub.execute_input": "2022-07-29T09:12:59.024906Z",
     "iopub.status.busy": "2022-07-29T09:12:59.024334Z",
     "iopub.status.idle": "2022-07-29T09:12:59.048535Z",
     "shell.execute_reply": "2022-07-29T09:12:59.047558Z"
    },
    "papermill": {
     "duration": 0.071273,
     "end_time": "2022-07-29T09:12:59.051296",
     "exception": false,
     "start_time": "2022-07-29T09:12:58.980023",
     "status": "completed"
    },
    "tags": []
   },
   "outputs": [
    {
     "data": {
      "text/plain": [
       "KMeans(n_clusters=3, random_state=0)"
      ]
     },
     "execution_count": 52,
     "metadata": {},
     "output_type": "execute_result"
    }
   ],
   "source": [
    "# K-Means:\n",
    "cluster=KMeans(3,random_state=0) # k=3 We group data to 3 differrent category\n",
    "cluster.fit(features)"
   ]
  },
  {
   "cell_type": "code",
   "execution_count": 53,
   "id": "df9b7d65",
   "metadata": {
    "execution": {
     "iopub.execute_input": "2022-07-29T09:12:59.141693Z",
     "iopub.status.busy": "2022-07-29T09:12:59.140997Z",
     "iopub.status.idle": "2022-07-29T09:12:59.214842Z",
     "shell.execute_reply": "2022-07-29T09:12:59.213471Z"
    },
    "papermill": {
     "duration": 0.121928,
     "end_time": "2022-07-29T09:12:59.218524",
     "exception": false,
     "start_time": "2022-07-29T09:12:59.096596",
     "status": "completed"
    },
    "tags": []
   },
   "outputs": [
    {
     "data": {
      "text/html": [
       "<div>\n",
       "<style scoped>\n",
       "    .dataframe tbody tr th:only-of-type {\n",
       "        vertical-align: middle;\n",
       "    }\n",
       "\n",
       "    .dataframe tbody tr th {\n",
       "        vertical-align: top;\n",
       "    }\n",
       "\n",
       "    .dataframe thead th {\n",
       "        text-align: right;\n",
       "    }\n",
       "</style>\n",
       "<table border=\"1\" class=\"dataframe\">\n",
       "  <thead>\n",
       "    <tr style=\"text-align: right;\">\n",
       "      <th></th>\n",
       "      <th>F_1</th>\n",
       "      <th>F_2</th>\n",
       "      <th>group</th>\n",
       "    </tr>\n",
       "  </thead>\n",
       "  <tbody>\n",
       "    <tr>\n",
       "      <th>0</th>\n",
       "      <td>-9.877554</td>\n",
       "      <td>-3.336145</td>\n",
       "      <td>0</td>\n",
       "    </tr>\n",
       "    <tr>\n",
       "      <th>1</th>\n",
       "      <td>-7.287210</td>\n",
       "      <td>-8.353986</td>\n",
       "      <td>2</td>\n",
       "    </tr>\n",
       "    <tr>\n",
       "      <th>2</th>\n",
       "      <td>-6.943061</td>\n",
       "      <td>-7.023744</td>\n",
       "      <td>2</td>\n",
       "    </tr>\n",
       "    <tr>\n",
       "      <th>3</th>\n",
       "      <td>-7.440167</td>\n",
       "      <td>-8.791959</td>\n",
       "      <td>2</td>\n",
       "    </tr>\n",
       "    <tr>\n",
       "      <th>4</th>\n",
       "      <td>-6.641388</td>\n",
       "      <td>-8.075888</td>\n",
       "      <td>2</td>\n",
       "    </tr>\n",
       "    <tr>\n",
       "      <th>5</th>\n",
       "      <td>-0.794152</td>\n",
       "      <td>2.104951</td>\n",
       "      <td>1</td>\n",
       "    </tr>\n",
       "    <tr>\n",
       "      <th>6</th>\n",
       "      <td>-2.760179</td>\n",
       "      <td>5.551214</td>\n",
       "      <td>1</td>\n",
       "    </tr>\n",
       "    <tr>\n",
       "      <th>7</th>\n",
       "      <td>-9.946905</td>\n",
       "      <td>-4.590344</td>\n",
       "      <td>0</td>\n",
       "    </tr>\n",
       "    <tr>\n",
       "      <th>8</th>\n",
       "      <td>-0.525790</td>\n",
       "      <td>3.306599</td>\n",
       "      <td>1</td>\n",
       "    </tr>\n",
       "    <tr>\n",
       "      <th>9</th>\n",
       "      <td>-1.981977</td>\n",
       "      <td>4.022436</td>\n",
       "      <td>1</td>\n",
       "    </tr>\n",
       "  </tbody>\n",
       "</table>\n",
       "</div>"
      ],
      "text/plain": [
       "        F_1       F_2  group\n",
       "0 -9.877554 -3.336145      0\n",
       "1 -7.287210 -8.353986      2\n",
       "2 -6.943061 -7.023744      2\n",
       "3 -7.440167 -8.791959      2\n",
       "4 -6.641388 -8.075888      2\n",
       "5 -0.794152  2.104951      1\n",
       "6 -2.760179  5.551214      1\n",
       "7 -9.946905 -4.590344      0\n",
       "8 -0.525790  3.306599      1\n",
       "9 -1.981977  4.022436      1"
      ]
     },
     "execution_count": 53,
     "metadata": {},
     "output_type": "execute_result"
    }
   ],
   "source": [
    "# Predict:\n",
    "data[\"group\"]=cluster.predict(features)\n",
    "data.head(10)"
   ]
  },
  {
   "cell_type": "markdown",
   "id": "1df0729a",
   "metadata": {
    "papermill": {
     "duration": 0.042689,
     "end_time": "2022-07-29T09:12:59.372608",
     "exception": false,
     "start_time": "2022-07-29T09:12:59.329919",
     "status": "completed"
    },
    "tags": []
   },
   "source": [
    "<a id=\"21\"></a>\n",
    "\n",
    "\n",
    "# DELETING OBSERVATIONS with MISSING VALUES\n",
    "\n",
    "* Most machine learning algorithms cannot handle any missing values in the target and feature arrays.\n",
    "* For this reason, we cannot ignore missing values in our data and must address the issue during preprocessing.\n",
    "* The simplest solution is to delete every observation that contains one or more missing values. \n",
    "* BUT we should be very **reluctant** to delete observations with missing values.\n",
    "* Deleting them is the nuclear option, since our algorithm **loses** access to the **information** contained in the observation’s non-missing values."
   ]
  },
  {
   "cell_type": "code",
   "execution_count": 54,
   "id": "41a4eb58",
   "metadata": {
    "execution": {
     "iopub.execute_input": "2022-07-29T09:12:59.462122Z",
     "iopub.status.busy": "2022-07-29T09:12:59.460927Z",
     "iopub.status.idle": "2022-07-29T09:12:59.479329Z",
     "shell.execute_reply": "2022-07-29T09:12:59.478227Z"
    },
    "papermill": {
     "duration": 0.065773,
     "end_time": "2022-07-29T09:12:59.481640",
     "exception": false,
     "start_time": "2022-07-29T09:12:59.415867",
     "status": "completed"
    },
    "tags": []
   },
   "outputs": [
    {
     "data": {
      "text/html": [
       "<div>\n",
       "<style scoped>\n",
       "    .dataframe tbody tr th:only-of-type {\n",
       "        vertical-align: middle;\n",
       "    }\n",
       "\n",
       "    .dataframe tbody tr th {\n",
       "        vertical-align: top;\n",
       "    }\n",
       "\n",
       "    .dataframe thead th {\n",
       "        text-align: right;\n",
       "    }\n",
       "</style>\n",
       "<table border=\"1\" class=\"dataframe\">\n",
       "  <thead>\n",
       "    <tr style=\"text-align: right;\">\n",
       "      <th></th>\n",
       "      <th>V1</th>\n",
       "      <th>V2</th>\n",
       "      <th>V3</th>\n",
       "    </tr>\n",
       "  </thead>\n",
       "  <tbody>\n",
       "    <tr>\n",
       "      <th>0</th>\n",
       "      <td>1.0</td>\n",
       "      <td>7.0</td>\n",
       "      <td>NaN</td>\n",
       "    </tr>\n",
       "    <tr>\n",
       "      <th>1</th>\n",
       "      <td>3.0</td>\n",
       "      <td>NaN</td>\n",
       "      <td>12.0</td>\n",
       "    </tr>\n",
       "    <tr>\n",
       "      <th>2</th>\n",
       "      <td>6.0</td>\n",
       "      <td>5.0</td>\n",
       "      <td>5.0</td>\n",
       "    </tr>\n",
       "    <tr>\n",
       "      <th>3</th>\n",
       "      <td>NaN</td>\n",
       "      <td>8.0</td>\n",
       "      <td>6.0</td>\n",
       "    </tr>\n",
       "    <tr>\n",
       "      <th>4</th>\n",
       "      <td>7.0</td>\n",
       "      <td>12.0</td>\n",
       "      <td>14.0</td>\n",
       "    </tr>\n",
       "    <tr>\n",
       "      <th>5</th>\n",
       "      <td>1.0</td>\n",
       "      <td>NaN</td>\n",
       "      <td>7.0</td>\n",
       "    </tr>\n",
       "    <tr>\n",
       "      <th>6</th>\n",
       "      <td>NaN</td>\n",
       "      <td>NaN</td>\n",
       "      <td>NaN</td>\n",
       "    </tr>\n",
       "    <tr>\n",
       "      <th>7</th>\n",
       "      <td>9.0</td>\n",
       "      <td>2.0</td>\n",
       "      <td>2.0</td>\n",
       "    </tr>\n",
       "    <tr>\n",
       "      <th>8</th>\n",
       "      <td>15.0</td>\n",
       "      <td>3.0</td>\n",
       "      <td>31.0</td>\n",
       "    </tr>\n",
       "  </tbody>\n",
       "</table>\n",
       "</div>"
      ],
      "text/plain": [
       "     V1    V2    V3\n",
       "0   1.0   7.0   NaN\n",
       "1   3.0   NaN  12.0\n",
       "2   6.0   5.0   5.0\n",
       "3   NaN   8.0   6.0\n",
       "4   7.0  12.0  14.0\n",
       "5   1.0   NaN   7.0\n",
       "6   NaN   NaN   NaN\n",
       "7   9.0   2.0   2.0\n",
       "8  15.0   3.0  31.0"
      ]
     },
     "execution_count": 54,
     "metadata": {},
     "output_type": "execute_result"
    }
   ],
   "source": [
    "V1 = np.array([1,3,6,np.NaN,7,1,np.NaN,9,15])\n",
    "V2 = np.array([7,np.NaN,5,8,12,np.NaN,np.NaN,2,3])\n",
    "V3 = np.array([np.NaN,12,5,6,14,7,np.NaN,2,31])\n",
    "df = pd.DataFrame(\n",
    "        {\"V1\" : V1,\n",
    "         \"V2\" : V2,\n",
    "         \"V3\" : V3}        \n",
    ")\n",
    "\n",
    "df"
   ]
  },
  {
   "cell_type": "code",
   "execution_count": 55,
   "id": "d190fd42",
   "metadata": {
    "execution": {
     "iopub.execute_input": "2022-07-29T09:12:59.571403Z",
     "iopub.status.busy": "2022-07-29T09:12:59.570442Z",
     "iopub.status.idle": "2022-07-29T09:12:59.581174Z",
     "shell.execute_reply": "2022-07-29T09:12:59.580237Z"
    },
    "papermill": {
     "duration": 0.057577,
     "end_time": "2022-07-29T09:12:59.583382",
     "exception": false,
     "start_time": "2022-07-29T09:12:59.525805",
     "status": "completed"
    },
    "tags": []
   },
   "outputs": [
    {
     "data": {
      "text/html": [
       "<div>\n",
       "<style scoped>\n",
       "    .dataframe tbody tr th:only-of-type {\n",
       "        vertical-align: middle;\n",
       "    }\n",
       "\n",
       "    .dataframe tbody tr th {\n",
       "        vertical-align: top;\n",
       "    }\n",
       "\n",
       "    .dataframe thead th {\n",
       "        text-align: right;\n",
       "    }\n",
       "</style>\n",
       "<table border=\"1\" class=\"dataframe\">\n",
       "  <thead>\n",
       "    <tr style=\"text-align: right;\">\n",
       "      <th></th>\n",
       "      <th>V1</th>\n",
       "      <th>V2</th>\n",
       "      <th>V3</th>\n",
       "    </tr>\n",
       "  </thead>\n",
       "  <tbody>\n",
       "    <tr>\n",
       "      <th>0</th>\n",
       "      <td>False</td>\n",
       "      <td>False</td>\n",
       "      <td>True</td>\n",
       "    </tr>\n",
       "    <tr>\n",
       "      <th>1</th>\n",
       "      <td>False</td>\n",
       "      <td>True</td>\n",
       "      <td>False</td>\n",
       "    </tr>\n",
       "    <tr>\n",
       "      <th>2</th>\n",
       "      <td>False</td>\n",
       "      <td>False</td>\n",
       "      <td>False</td>\n",
       "    </tr>\n",
       "    <tr>\n",
       "      <th>3</th>\n",
       "      <td>True</td>\n",
       "      <td>False</td>\n",
       "      <td>False</td>\n",
       "    </tr>\n",
       "    <tr>\n",
       "      <th>4</th>\n",
       "      <td>False</td>\n",
       "      <td>False</td>\n",
       "      <td>False</td>\n",
       "    </tr>\n",
       "    <tr>\n",
       "      <th>5</th>\n",
       "      <td>False</td>\n",
       "      <td>True</td>\n",
       "      <td>False</td>\n",
       "    </tr>\n",
       "    <tr>\n",
       "      <th>6</th>\n",
       "      <td>True</td>\n",
       "      <td>True</td>\n",
       "      <td>True</td>\n",
       "    </tr>\n",
       "    <tr>\n",
       "      <th>7</th>\n",
       "      <td>False</td>\n",
       "      <td>False</td>\n",
       "      <td>False</td>\n",
       "    </tr>\n",
       "    <tr>\n",
       "      <th>8</th>\n",
       "      <td>False</td>\n",
       "      <td>False</td>\n",
       "      <td>False</td>\n",
       "    </tr>\n",
       "  </tbody>\n",
       "</table>\n",
       "</div>"
      ],
      "text/plain": [
       "      V1     V2     V3\n",
       "0  False  False   True\n",
       "1  False   True  False\n",
       "2  False  False  False\n",
       "3   True  False  False\n",
       "4  False  False  False\n",
       "5  False   True  False\n",
       "6   True   True   True\n",
       "7  False  False  False\n",
       "8  False  False  False"
      ]
     },
     "execution_count": 55,
     "metadata": {},
     "output_type": "execute_result"
    }
   ],
   "source": [
    "df.isnull()"
   ]
  },
  {
   "cell_type": "code",
   "execution_count": 56,
   "id": "4af97c3f",
   "metadata": {
    "execution": {
     "iopub.execute_input": "2022-07-29T09:12:59.673668Z",
     "iopub.status.busy": "2022-07-29T09:12:59.673070Z",
     "iopub.status.idle": "2022-07-29T09:12:59.680749Z",
     "shell.execute_reply": "2022-07-29T09:12:59.680005Z"
    },
    "papermill": {
     "duration": 0.055459,
     "end_time": "2022-07-29T09:12:59.682866",
     "exception": false,
     "start_time": "2022-07-29T09:12:59.627407",
     "status": "completed"
    },
    "tags": []
   },
   "outputs": [
    {
     "data": {
      "text/plain": [
       "V1    2\n",
       "V2    3\n",
       "V3    2\n",
       "dtype: int64"
      ]
     },
     "execution_count": 56,
     "metadata": {},
     "output_type": "execute_result"
    }
   ],
   "source": [
    "df.isnull().sum()"
   ]
  },
  {
   "cell_type": "code",
   "execution_count": 57,
   "id": "3a6c42aa",
   "metadata": {
    "execution": {
     "iopub.execute_input": "2022-07-29T09:12:59.779056Z",
     "iopub.status.busy": "2022-07-29T09:12:59.778195Z",
     "iopub.status.idle": "2022-07-29T09:12:59.791115Z",
     "shell.execute_reply": "2022-07-29T09:12:59.790292Z"
    },
    "papermill": {
     "duration": 0.065987,
     "end_time": "2022-07-29T09:12:59.793184",
     "exception": false,
     "start_time": "2022-07-29T09:12:59.727197",
     "status": "completed"
    },
    "tags": []
   },
   "outputs": [
    {
     "data": {
      "text/html": [
       "<div>\n",
       "<style scoped>\n",
       "    .dataframe tbody tr th:only-of-type {\n",
       "        vertical-align: middle;\n",
       "    }\n",
       "\n",
       "    .dataframe tbody tr th {\n",
       "        vertical-align: top;\n",
       "    }\n",
       "\n",
       "    .dataframe thead th {\n",
       "        text-align: right;\n",
       "    }\n",
       "</style>\n",
       "<table border=\"1\" class=\"dataframe\">\n",
       "  <thead>\n",
       "    <tr style=\"text-align: right;\">\n",
       "      <th></th>\n",
       "      <th>V1</th>\n",
       "      <th>V2</th>\n",
       "      <th>V3</th>\n",
       "    </tr>\n",
       "  </thead>\n",
       "  <tbody>\n",
       "    <tr>\n",
       "      <th>2</th>\n",
       "      <td>6.0</td>\n",
       "      <td>5.0</td>\n",
       "      <td>5.0</td>\n",
       "    </tr>\n",
       "    <tr>\n",
       "      <th>4</th>\n",
       "      <td>7.0</td>\n",
       "      <td>12.0</td>\n",
       "      <td>14.0</td>\n",
       "    </tr>\n",
       "    <tr>\n",
       "      <th>7</th>\n",
       "      <td>9.0</td>\n",
       "      <td>2.0</td>\n",
       "      <td>2.0</td>\n",
       "    </tr>\n",
       "    <tr>\n",
       "      <th>8</th>\n",
       "      <td>15.0</td>\n",
       "      <td>3.0</td>\n",
       "      <td>31.0</td>\n",
       "    </tr>\n",
       "  </tbody>\n",
       "</table>\n",
       "</div>"
      ],
      "text/plain": [
       "     V1    V2    V3\n",
       "2   6.0   5.0   5.0\n",
       "4   7.0  12.0  14.0\n",
       "7   9.0   2.0   2.0\n",
       "8  15.0   3.0  31.0"
      ]
     },
     "execution_count": 57,
     "metadata": {},
     "output_type": "execute_result"
    }
   ],
   "source": [
    "df.dropna(inplace=True) # inplace=True -> dropNa will drop all missing values from our original dataset. \n",
    "df"
   ]
  },
  {
   "cell_type": "markdown",
   "id": "395d93c1",
   "metadata": {
    "papermill": {
     "duration": 0.044355,
     "end_time": "2022-07-29T09:12:59.881937",
     "exception": false,
     "start_time": "2022-07-29T09:12:59.837582",
     "status": "completed"
    },
    "tags": []
   },
   "source": [
    "<a id=\"22\"></a>\n",
    "\n",
    "# IMPUTING MISSING VALUES\n",
    "* Fill in all missing values with some average value.\n",
    "* We can use Machine Learning to predict the values of the missing data. (K-Nearest Neighboor)"
   ]
  },
  {
   "cell_type": "code",
   "execution_count": 58,
   "id": "6496db73",
   "metadata": {
    "execution": {
     "iopub.execute_input": "2022-07-29T09:12:59.975008Z",
     "iopub.status.busy": "2022-07-29T09:12:59.974314Z",
     "iopub.status.idle": "2022-07-29T09:12:59.991060Z",
     "shell.execute_reply": "2022-07-29T09:12:59.990108Z"
    },
    "papermill": {
     "duration": 0.06713,
     "end_time": "2022-07-29T09:12:59.993549",
     "exception": false,
     "start_time": "2022-07-29T09:12:59.926419",
     "status": "completed"
    },
    "tags": []
   },
   "outputs": [
    {
     "data": {
      "text/html": [
       "<div>\n",
       "<style scoped>\n",
       "    .dataframe tbody tr th:only-of-type {\n",
       "        vertical-align: middle;\n",
       "    }\n",
       "\n",
       "    .dataframe tbody tr th {\n",
       "        vertical-align: top;\n",
       "    }\n",
       "\n",
       "    .dataframe thead th {\n",
       "        text-align: right;\n",
       "    }\n",
       "</style>\n",
       "<table border=\"1\" class=\"dataframe\">\n",
       "  <thead>\n",
       "    <tr style=\"text-align: right;\">\n",
       "      <th></th>\n",
       "      <th>V1</th>\n",
       "      <th>V2</th>\n",
       "      <th>V3</th>\n",
       "    </tr>\n",
       "  </thead>\n",
       "  <tbody>\n",
       "    <tr>\n",
       "      <th>0</th>\n",
       "      <td>1.0</td>\n",
       "      <td>7.0</td>\n",
       "      <td>NaN</td>\n",
       "    </tr>\n",
       "    <tr>\n",
       "      <th>1</th>\n",
       "      <td>3.0</td>\n",
       "      <td>NaN</td>\n",
       "      <td>12.0</td>\n",
       "    </tr>\n",
       "    <tr>\n",
       "      <th>2</th>\n",
       "      <td>6.0</td>\n",
       "      <td>5.0</td>\n",
       "      <td>5.0</td>\n",
       "    </tr>\n",
       "    <tr>\n",
       "      <th>3</th>\n",
       "      <td>NaN</td>\n",
       "      <td>8.0</td>\n",
       "      <td>6.0</td>\n",
       "    </tr>\n",
       "    <tr>\n",
       "      <th>4</th>\n",
       "      <td>7.0</td>\n",
       "      <td>12.0</td>\n",
       "      <td>14.0</td>\n",
       "    </tr>\n",
       "    <tr>\n",
       "      <th>5</th>\n",
       "      <td>1.0</td>\n",
       "      <td>NaN</td>\n",
       "      <td>7.0</td>\n",
       "    </tr>\n",
       "    <tr>\n",
       "      <th>6</th>\n",
       "      <td>NaN</td>\n",
       "      <td>NaN</td>\n",
       "      <td>NaN</td>\n",
       "    </tr>\n",
       "    <tr>\n",
       "      <th>7</th>\n",
       "      <td>9.0</td>\n",
       "      <td>2.0</td>\n",
       "      <td>2.0</td>\n",
       "    </tr>\n",
       "    <tr>\n",
       "      <th>8</th>\n",
       "      <td>15.0</td>\n",
       "      <td>3.0</td>\n",
       "      <td>31.0</td>\n",
       "    </tr>\n",
       "  </tbody>\n",
       "</table>\n",
       "</div>"
      ],
      "text/plain": [
       "     V1    V2    V3\n",
       "0   1.0   7.0   NaN\n",
       "1   3.0   NaN  12.0\n",
       "2   6.0   5.0   5.0\n",
       "3   NaN   8.0   6.0\n",
       "4   7.0  12.0  14.0\n",
       "5   1.0   NaN   7.0\n",
       "6   NaN   NaN   NaN\n",
       "7   9.0   2.0   2.0\n",
       "8  15.0   3.0  31.0"
      ]
     },
     "execution_count": 58,
     "metadata": {},
     "output_type": "execute_result"
    }
   ],
   "source": [
    "V1 = np.array([1,3,6,np.NaN,7,1,np.NaN,9,15])\n",
    "V2 = np.array([7,np.NaN,5,8,12,np.NaN,np.NaN,2,3])\n",
    "V3 = np.array([np.NaN,12,5,6,14,7,np.NaN,2,31])\n",
    "df = pd.DataFrame(\n",
    "        {\"V1\" : V1,\n",
    "         \"V2\" : V2,\n",
    "         \"V3\" : V3}        \n",
    ")\n",
    "\n",
    "df"
   ]
  },
  {
   "cell_type": "markdown",
   "id": "3db78f9b",
   "metadata": {
    "papermill": {
     "duration": 0.044125,
     "end_time": "2022-07-29T09:13:00.082236",
     "exception": false,
     "start_time": "2022-07-29T09:13:00.038111",
     "status": "completed"
    },
    "tags": []
   },
   "source": [
    "<a id=\"23\"></a>\n",
    "\n",
    "### Simple Imputaion"
   ]
  },
  {
   "cell_type": "code",
   "execution_count": 59,
   "id": "463b48c3",
   "metadata": {
    "execution": {
     "iopub.execute_input": "2022-07-29T09:13:00.173368Z",
     "iopub.status.busy": "2022-07-29T09:13:00.172974Z",
     "iopub.status.idle": "2022-07-29T09:13:00.179868Z",
     "shell.execute_reply": "2022-07-29T09:13:00.179068Z"
    },
    "papermill": {
     "duration": 0.054867,
     "end_time": "2022-07-29T09:13:00.181985",
     "exception": false,
     "start_time": "2022-07-29T09:13:00.127118",
     "status": "completed"
    },
    "tags": []
   },
   "outputs": [
    {
     "data": {
      "text/plain": [
       "6.0"
      ]
     },
     "execution_count": 59,
     "metadata": {},
     "output_type": "execute_result"
    }
   ],
   "source": [
    "df[\"V1\"].mean()"
   ]
  },
  {
   "cell_type": "code",
   "execution_count": 60,
   "id": "ba44086d",
   "metadata": {
    "execution": {
     "iopub.execute_input": "2022-07-29T09:13:00.274276Z",
     "iopub.status.busy": "2022-07-29T09:13:00.273880Z",
     "iopub.status.idle": "2022-07-29T09:13:00.281992Z",
     "shell.execute_reply": "2022-07-29T09:13:00.281211Z"
    },
    "papermill": {
     "duration": 0.056925,
     "end_time": "2022-07-29T09:13:00.283996",
     "exception": false,
     "start_time": "2022-07-29T09:13:00.227071",
     "status": "completed"
    },
    "tags": []
   },
   "outputs": [
    {
     "data": {
      "text/plain": [
       "0     1.0\n",
       "1     3.0\n",
       "2     6.0\n",
       "3     6.0\n",
       "4     7.0\n",
       "5     1.0\n",
       "6     6.0\n",
       "7     9.0\n",
       "8    15.0\n",
       "Name: V1, dtype: float64"
      ]
     },
     "execution_count": 60,
     "metadata": {},
     "output_type": "execute_result"
    }
   ],
   "source": [
    "# Fill with Mean\n",
    "df[\"V1\"].fillna(df[\"V1\"].mean())"
   ]
  },
  {
   "cell_type": "code",
   "execution_count": 61,
   "id": "358e8cac",
   "metadata": {
    "execution": {
     "iopub.execute_input": "2022-07-29T09:13:00.375618Z",
     "iopub.status.busy": "2022-07-29T09:13:00.374924Z",
     "iopub.status.idle": "2022-07-29T09:13:00.382585Z",
     "shell.execute_reply": "2022-07-29T09:13:00.381855Z"
    },
    "papermill": {
     "duration": 0.055979,
     "end_time": "2022-07-29T09:13:00.384731",
     "exception": false,
     "start_time": "2022-07-29T09:13:00.328752",
     "status": "completed"
    },
    "tags": []
   },
   "outputs": [
    {
     "data": {
      "text/plain": [
       "0     1.0\n",
       "1     3.0\n",
       "2     6.0\n",
       "3     0.0\n",
       "4     7.0\n",
       "5     1.0\n",
       "6     0.0\n",
       "7     9.0\n",
       "8    15.0\n",
       "Name: V1, dtype: float64"
      ]
     },
     "execution_count": 61,
     "metadata": {},
     "output_type": "execute_result"
    }
   ],
   "source": [
    "# Fill with 0\n",
    "df[\"V1\"].fillna(0)"
   ]
  },
  {
   "cell_type": "code",
   "execution_count": 62,
   "id": "6a808cab",
   "metadata": {
    "execution": {
     "iopub.execute_input": "2022-07-29T09:13:00.477532Z",
     "iopub.status.busy": "2022-07-29T09:13:00.476859Z",
     "iopub.status.idle": "2022-07-29T09:13:00.492381Z",
     "shell.execute_reply": "2022-07-29T09:13:00.491230Z"
    },
    "papermill": {
     "duration": 0.064976,
     "end_time": "2022-07-29T09:13:00.494712",
     "exception": false,
     "start_time": "2022-07-29T09:13:00.429736",
     "status": "completed"
    },
    "tags": []
   },
   "outputs": [
    {
     "name": "stdout",
     "output_type": "stream",
     "text": [
      "Imputed Value: 1.0\n"
     ]
    }
   ],
   "source": [
    "# IMPUTE with SCIKIT-LEARN IMPUTER\n",
    "from sklearn.impute import SimpleImputer\n",
    "mean_imputer=SimpleImputer(strategy=\"mean\")\n",
    "features_mean_imputed = mean_imputer.fit_transform(df)\n",
    "print(\"Imputed Value:\", features_mean_imputed[0,0])"
   ]
  },
  {
   "cell_type": "markdown",
   "id": "569f295b",
   "metadata": {
    "papermill": {
     "duration": 0.044921,
     "end_time": "2022-07-29T09:13:00.585683",
     "exception": false,
     "start_time": "2022-07-29T09:13:00.540762",
     "status": "completed"
    },
    "tags": []
   },
   "source": [
    "<a id=\"24\"></a>\n",
    "\n",
    "### Imputation with Machine Learning (Option 1)"
   ]
  },
  {
   "cell_type": "code",
   "execution_count": 63,
   "id": "02a6aa8e",
   "metadata": {
    "collapsed": true,
    "execution": {
     "iopub.execute_input": "2022-07-29T09:13:00.677369Z",
     "iopub.status.busy": "2022-07-29T09:13:00.676952Z",
     "iopub.status.idle": "2022-07-29T09:13:25.178388Z",
     "shell.execute_reply": "2022-07-29T09:13:25.177190Z"
    },
    "jupyter": {
     "outputs_hidden": true
    },
    "papermill": {
     "duration": 24.550274,
     "end_time": "2022-07-29T09:13:25.180877",
     "exception": false,
     "start_time": "2022-07-29T09:13:00.630603",
     "status": "completed"
    },
    "tags": []
   },
   "outputs": [
    {
     "name": "stdout",
     "output_type": "stream",
     "text": [
      "Collecting fancyimpute\r\n",
      "  Downloading fancyimpute-0.7.0.tar.gz (25 kB)\r\n",
      "  Preparing metadata (setup.py) ... \u001b[?25l-\b \bdone\r\n",
      "\u001b[?25hCollecting knnimpute>=0.1.0\r\n",
      "  Downloading knnimpute-0.1.0.tar.gz (8.3 kB)\r\n",
      "  Preparing metadata (setup.py) ... \u001b[?25l-\b \bdone\r\n",
      "\u001b[?25hRequirement already satisfied: scikit-learn>=0.24.2 in /opt/conda/lib/python3.7/site-packages (from fancyimpute) (1.0.2)\r\n",
      "Collecting cvxpy\r\n",
      "  Downloading cvxpy-1.2.1-cp37-cp37m-manylinux_2_24_x86_64.whl (2.8 MB)\r\n",
      "\u001b[2K     \u001b[90m━━━━━━━━━━━━━━━━━━━━━━━━━━━━━━━━━━━━━━━━\u001b[0m \u001b[32m2.8/2.8 MB\u001b[0m \u001b[31m2.9 MB/s\u001b[0m eta \u001b[36m0:00:00\u001b[0m\r\n",
      "\u001b[?25hCollecting cvxopt\r\n",
      "  Downloading cvxopt-1.3.0-cp37-cp37m-manylinux_2_17_x86_64.manylinux2014_x86_64.whl (12.7 MB)\r\n",
      "\u001b[2K     \u001b[90m━━━━━━━━━━━━━━━━━━━━━━━━━━━━━━━━━━━━━━━━\u001b[0m \u001b[32m12.7/12.7 MB\u001b[0m \u001b[31m13.7 MB/s\u001b[0m eta \u001b[36m0:00:00\u001b[0m\r\n",
      "\u001b[?25hRequirement already satisfied: pytest in /opt/conda/lib/python3.7/site-packages (from fancyimpute) (7.1.2)\r\n",
      "Requirement already satisfied: nose in /opt/conda/lib/python3.7/site-packages (from fancyimpute) (1.3.7)\r\n",
      "Requirement already satisfied: six in /opt/conda/lib/python3.7/site-packages (from knnimpute>=0.1.0->fancyimpute) (1.16.0)\r\n",
      "Requirement already satisfied: numpy>=1.10 in /opt/conda/lib/python3.7/site-packages (from knnimpute>=0.1.0->fancyimpute) (1.21.6)\r\n",
      "Requirement already satisfied: joblib>=0.11 in /opt/conda/lib/python3.7/site-packages (from scikit-learn>=0.24.2->fancyimpute) (1.0.1)\r\n",
      "Requirement already satisfied: scipy>=1.1.0 in /opt/conda/lib/python3.7/site-packages (from scikit-learn>=0.24.2->fancyimpute) (1.7.3)\r\n",
      "Requirement already satisfied: threadpoolctl>=2.0.0 in /opt/conda/lib/python3.7/site-packages (from scikit-learn>=0.24.2->fancyimpute) (3.1.0)\r\n",
      "Collecting osqp>=0.4.1\r\n",
      "  Downloading osqp-0.6.2.post5-cp37-cp37m-manylinux_2_5_x86_64.manylinux1_x86_64.manylinux_2_17_x86_64.manylinux2014_x86_64.whl (295 kB)\r\n",
      "\u001b[2K     \u001b[90m━━━━━━━━━━━━━━━━━━━━━━━━━━━━━━━━━━━━━━\u001b[0m \u001b[32m295.9/295.9 kB\u001b[0m \u001b[31m16.6 MB/s\u001b[0m eta \u001b[36m0:00:00\u001b[0m\r\n",
      "\u001b[?25hCollecting scs>=1.1.6\r\n",
      "  Downloading scs-3.2.0-cp37-cp37m-manylinux_2_17_x86_64.manylinux2014_x86_64.whl (10.7 MB)\r\n",
      "\u001b[2K     \u001b[90m━━━━━━━━━━━━━━━━━━━━━━━━━━━━━━━━━━━━━━━━\u001b[0m \u001b[32m10.7/10.7 MB\u001b[0m \u001b[31m16.6 MB/s\u001b[0m eta \u001b[36m0:00:00\u001b[0m\r\n",
      "\u001b[?25hRequirement already satisfied: ecos>=2 in /opt/conda/lib/python3.7/site-packages (from cvxpy->fancyimpute) (2.0.10)\r\n",
      "Requirement already satisfied: py>=1.8.2 in /opt/conda/lib/python3.7/site-packages (from pytest->fancyimpute) (1.11.0)\r\n",
      "Requirement already satisfied: tomli>=1.0.0 in /opt/conda/lib/python3.7/site-packages (from pytest->fancyimpute) (2.0.1)\r\n",
      "Requirement already satisfied: packaging in /opt/conda/lib/python3.7/site-packages (from pytest->fancyimpute) (21.3)\r\n",
      "Requirement already satisfied: iniconfig in /opt/conda/lib/python3.7/site-packages (from pytest->fancyimpute) (1.1.1)\r\n",
      "Requirement already satisfied: pluggy<2.0,>=0.12 in /opt/conda/lib/python3.7/site-packages (from pytest->fancyimpute) (1.0.0)\r\n",
      "Requirement already satisfied: importlib-metadata>=0.12 in /opt/conda/lib/python3.7/site-packages (from pytest->fancyimpute) (4.12.0)\r\n",
      "Requirement already satisfied: attrs>=19.2.0 in /opt/conda/lib/python3.7/site-packages (from pytest->fancyimpute) (21.4.0)\r\n",
      "Requirement already satisfied: zipp>=0.5 in /opt/conda/lib/python3.7/site-packages (from importlib-metadata>=0.12->pytest->fancyimpute) (3.8.0)\r\n",
      "Requirement already satisfied: typing-extensions>=3.6.4 in /opt/conda/lib/python3.7/site-packages (from importlib-metadata>=0.12->pytest->fancyimpute) (4.1.1)\r\n",
      "Collecting qdldl\r\n",
      "  Downloading qdldl-0.1.5.post2-cp37-cp37m-manylinux_2_17_x86_64.manylinux2014_x86_64.whl (1.1 MB)\r\n",
      "\u001b[2K     \u001b[90m━━━━━━━━━━━━━━━━━━━━━━━━━━━━━━━━━━━━━━━━\u001b[0m \u001b[32m1.1/1.1 MB\u001b[0m \u001b[31m39.6 MB/s\u001b[0m eta \u001b[36m0:00:00\u001b[0m\r\n",
      "\u001b[?25hRequirement already satisfied: pyparsing!=3.0.5,>=2.0.2 in /opt/conda/lib/python3.7/site-packages (from packaging->pytest->fancyimpute) (3.0.9)\r\n",
      "Building wheels for collected packages: fancyimpute, knnimpute\r\n",
      "  Building wheel for fancyimpute (setup.py) ... \u001b[?25l-\b \b\\\b \bdone\r\n",
      "\u001b[?25h  Created wheel for fancyimpute: filename=fancyimpute-0.7.0-py3-none-any.whl size=29899 sha256=06d79ac0c62c0fb046cbbbd08b2360966c77e00e2f93013f3f680eac04223a7c\r\n",
      "  Stored in directory: /root/.cache/pip/wheels/e3/04/06/a1a7d89ef4e631ce6268ea2d8cde04f7290651c1ff1025ce68\r\n",
      "  Building wheel for knnimpute (setup.py) ... \u001b[?25l-\b \b\\\b \bdone\r\n",
      "\u001b[?25h  Created wheel for knnimpute: filename=knnimpute-0.1.0-py3-none-any.whl size=11353 sha256=3a8745921a637e6cd6fb8b8aa6176e640be270c48e3ba47c22d5ee9d0a6c57f7\r\n",
      "  Stored in directory: /root/.cache/pip/wheels/72/21/a8/a045cacd9838abd5643f6bfa852c0796a99d6b1494760494e0\r\n",
      "Successfully built fancyimpute knnimpute\r\n",
      "Installing collected packages: knnimpute, cvxopt, scs, qdldl, osqp, cvxpy, fancyimpute\r\n",
      "Successfully installed cvxopt-1.3.0 cvxpy-1.2.1 fancyimpute-0.7.0 knnimpute-0.1.0 osqp-0.6.2.post5 qdldl-0.1.5.post2 scs-3.2.0\r\n",
      "\u001b[33mWARNING: Running pip as the 'root' user can result in broken permissions and conflicting behaviour with the system package manager. It is recommended to use a virtual environment instead: https://pip.pypa.io/warnings/venv\u001b[0m\u001b[33m\r\n",
      "\u001b[0mNote: you may need to restart the kernel to use updated packages.\n"
     ]
    }
   ],
   "source": [
    " pip install fancyimpute"
   ]
  },
  {
   "cell_type": "code",
   "execution_count": 64,
   "id": "22705d2a",
   "metadata": {
    "execution": {
     "iopub.execute_input": "2022-07-29T09:13:25.286580Z",
     "iopub.status.busy": "2022-07-29T09:13:25.286186Z",
     "iopub.status.idle": "2022-07-29T09:13:25.428336Z",
     "shell.execute_reply": "2022-07-29T09:13:25.426950Z"
    },
    "papermill": {
     "duration": 0.20016,
     "end_time": "2022-07-29T09:13:25.432248",
     "exception": false,
     "start_time": "2022-07-29T09:13:25.232088",
     "status": "completed"
    },
    "tags": []
   },
   "outputs": [],
   "source": [
    "from fancyimpute import KNN\n",
    "from sklearn.preprocessing import StandardScaler"
   ]
  },
  {
   "cell_type": "code",
   "execution_count": 65,
   "id": "cd24ff68",
   "metadata": {
    "execution": {
     "iopub.execute_input": "2022-07-29T09:13:25.577486Z",
     "iopub.status.busy": "2022-07-29T09:13:25.576583Z",
     "iopub.status.idle": "2022-07-29T09:13:25.586681Z",
     "shell.execute_reply": "2022-07-29T09:13:25.585369Z"
    },
    "papermill": {
     "duration": 0.06562,
     "end_time": "2022-07-29T09:13:25.588898",
     "exception": false,
     "start_time": "2022-07-29T09:13:25.523278",
     "status": "completed"
    },
    "tags": []
   },
   "outputs": [],
   "source": [
    "# Standardization:\n",
    "scaler=StandardScaler()\n",
    "standardize_features=scaler.fit_transform(df)"
   ]
  },
  {
   "cell_type": "code",
   "execution_count": 66,
   "id": "e1852ae7",
   "metadata": {
    "execution": {
     "iopub.execute_input": "2022-07-29T09:13:25.695819Z",
     "iopub.status.busy": "2022-07-29T09:13:25.695431Z",
     "iopub.status.idle": "2022-07-29T09:13:25.700741Z",
     "shell.execute_reply": "2022-07-29T09:13:25.699539Z"
    },
    "papermill": {
     "duration": 0.060854,
     "end_time": "2022-07-29T09:13:25.703007",
     "exception": false,
     "start_time": "2022-07-29T09:13:25.642153",
     "status": "completed"
    },
    "tags": []
   },
   "outputs": [],
   "source": [
    "true_value=standardize_features[0,0]\n",
    "standardize_features[0,0]=np.nan"
   ]
  },
  {
   "cell_type": "code",
   "execution_count": 67,
   "id": "582811bd",
   "metadata": {
    "execution": {
     "iopub.execute_input": "2022-07-29T09:13:25.809968Z",
     "iopub.status.busy": "2022-07-29T09:13:25.809557Z",
     "iopub.status.idle": "2022-07-29T09:13:25.819043Z",
     "shell.execute_reply": "2022-07-29T09:13:25.817735Z"
    },
    "papermill": {
     "duration": 0.066633,
     "end_time": "2022-07-29T09:13:25.821745",
     "exception": false,
     "start_time": "2022-07-29T09:13:25.755112",
     "status": "completed"
    },
    "tags": []
   },
   "outputs": [
    {
     "name": "stdout",
     "output_type": "stream",
     "text": [
      "True Value -1.0801234497346432\n",
      "Imputed Value 0.39765055481384176\n"
     ]
    }
   ],
   "source": [
    "features_knn_imputed=KNN(k=4,verbose=0).fit_transform(standardize_features)\n",
    "print(\"True Value\",true_value)\n",
    "print(\"Imputed Value\",features_knn_imputed[0,0])"
   ]
  },
  {
   "cell_type": "markdown",
   "id": "baa6ae78",
   "metadata": {
    "papermill": {
     "duration": 0.051946,
     "end_time": "2022-07-29T09:13:25.926045",
     "exception": false,
     "start_time": "2022-07-29T09:13:25.874099",
     "status": "completed"
    },
    "tags": []
   },
   "source": [
    "### Imputation with Machine Learning (Option 2)"
   ]
  },
  {
   "cell_type": "code",
   "execution_count": 68,
   "id": "0b11be22",
   "metadata": {
    "collapsed": true,
    "execution": {
     "iopub.execute_input": "2022-07-29T09:13:26.032500Z",
     "iopub.status.busy": "2022-07-29T09:13:26.032125Z",
     "iopub.status.idle": "2022-07-29T09:13:38.918033Z",
     "shell.execute_reply": "2022-07-29T09:13:38.917072Z"
    },
    "jupyter": {
     "outputs_hidden": true
    },
    "papermill": {
     "duration": 12.943417,
     "end_time": "2022-07-29T09:13:38.921160",
     "exception": false,
     "start_time": "2022-07-29T09:13:25.977743",
     "status": "completed"
    },
    "tags": []
   },
   "outputs": [
    {
     "name": "stdout",
     "output_type": "stream",
     "text": [
      "Collecting ycimpute\r\n",
      "  Downloading ycimpute-0.2-py3-none-any.whl (35 kB)\r\n",
      "Requirement already satisfied: scikit-learn>=0.17.1 in /opt/conda/lib/python3.7/site-packages (from ycimpute) (1.0.2)\r\n",
      "Requirement already satisfied: scipy in /opt/conda/lib/python3.7/site-packages (from ycimpute) (1.7.3)\r\n",
      "Requirement already satisfied: six in /opt/conda/lib/python3.7/site-packages (from ycimpute) (1.16.0)\r\n",
      "Requirement already satisfied: numpy>=1.10 in /opt/conda/lib/python3.7/site-packages (from ycimpute) (1.21.6)\r\n",
      "Requirement already satisfied: torch>=1.1.0 in /opt/conda/lib/python3.7/site-packages (from ycimpute) (1.11.0+cpu)\r\n",
      "Requirement already satisfied: joblib>=0.11 in /opt/conda/lib/python3.7/site-packages (from scikit-learn>=0.17.1->ycimpute) (1.0.1)\r\n",
      "Requirement already satisfied: threadpoolctl>=2.0.0 in /opt/conda/lib/python3.7/site-packages (from scikit-learn>=0.17.1->ycimpute) (3.1.0)\r\n",
      "Requirement already satisfied: typing-extensions in /opt/conda/lib/python3.7/site-packages (from torch>=1.1.0->ycimpute) (4.1.1)\r\n",
      "Installing collected packages: ycimpute\r\n",
      "Successfully installed ycimpute-0.2\r\n",
      "\u001b[33mWARNING: Running pip as the 'root' user can result in broken permissions and conflicting behaviour with the system package manager. It is recommended to use a virtual environment instead: https://pip.pypa.io/warnings/venv\u001b[0m\u001b[33m\r\n",
      "\u001b[0mNote: you may need to restart the kernel to use updated packages.\n"
     ]
    }
   ],
   "source": [
    "pip install ycimpute"
   ]
  },
  {
   "cell_type": "code",
   "execution_count": 69,
   "id": "28fc66df",
   "metadata": {
    "execution": {
     "iopub.execute_input": "2022-07-29T09:13:39.029854Z",
     "iopub.status.busy": "2022-07-29T09:13:39.029394Z",
     "iopub.status.idle": "2022-07-29T09:13:40.874536Z",
     "shell.execute_reply": "2022-07-29T09:13:40.873473Z"
    },
    "papermill": {
     "duration": 1.902688,
     "end_time": "2022-07-29T09:13:40.877264",
     "exception": false,
     "start_time": "2022-07-29T09:13:38.974576",
     "status": "completed"
    },
    "tags": []
   },
   "outputs": [],
   "source": [
    "from ycimpute.imputer import knnimput"
   ]
  },
  {
   "cell_type": "code",
   "execution_count": 70,
   "id": "02e63351",
   "metadata": {
    "execution": {
     "iopub.execute_input": "2022-07-29T09:13:40.986594Z",
     "iopub.status.busy": "2022-07-29T09:13:40.985318Z",
     "iopub.status.idle": "2022-07-29T09:13:40.991152Z",
     "shell.execute_reply": "2022-07-29T09:13:40.990151Z"
    },
    "papermill": {
     "duration": 0.062745,
     "end_time": "2022-07-29T09:13:40.993234",
     "exception": false,
     "start_time": "2022-07-29T09:13:40.930489",
     "status": "completed"
    },
    "tags": []
   },
   "outputs": [],
   "source": [
    "# Convert the Data Frame to NumPy array:\n",
    "np_df=np.array(df)"
   ]
  },
  {
   "cell_type": "code",
   "execution_count": 71,
   "id": "e4075220",
   "metadata": {
    "execution": {
     "iopub.execute_input": "2022-07-29T09:13:41.102329Z",
     "iopub.status.busy": "2022-07-29T09:13:41.101929Z",
     "iopub.status.idle": "2022-07-29T09:13:41.120519Z",
     "shell.execute_reply": "2022-07-29T09:13:41.118840Z"
    },
    "papermill": {
     "duration": 0.076362,
     "end_time": "2022-07-29T09:13:41.123139",
     "exception": false,
     "start_time": "2022-07-29T09:13:41.046777",
     "status": "completed"
    },
    "tags": []
   },
   "outputs": [
    {
     "name": "stdout",
     "output_type": "stream",
     "text": [
      "Imputing row 1/9 with 1 missing, elapsed time: 0.001\n",
      "[KNN] Warning: 3/27 still missing after imputation, replacing with 0\n"
     ]
    },
    {
     "data": {
      "text/html": [
       "<div>\n",
       "<style scoped>\n",
       "    .dataframe tbody tr th:only-of-type {\n",
       "        vertical-align: middle;\n",
       "    }\n",
       "\n",
       "    .dataframe tbody tr th {\n",
       "        vertical-align: top;\n",
       "    }\n",
       "\n",
       "    .dataframe thead th {\n",
       "        text-align: right;\n",
       "    }\n",
       "</style>\n",
       "<table border=\"1\" class=\"dataframe\">\n",
       "  <thead>\n",
       "    <tr style=\"text-align: right;\">\n",
       "      <th></th>\n",
       "      <th>V1</th>\n",
       "      <th>V2</th>\n",
       "      <th>V3</th>\n",
       "    </tr>\n",
       "  </thead>\n",
       "  <tbody>\n",
       "    <tr>\n",
       "      <th>0</th>\n",
       "      <td>1.000000</td>\n",
       "      <td>7.000000</td>\n",
       "      <td>7.000109</td>\n",
       "    </tr>\n",
       "    <tr>\n",
       "      <th>1</th>\n",
       "      <td>3.000000</td>\n",
       "      <td>7.878983</td>\n",
       "      <td>12.000000</td>\n",
       "    </tr>\n",
       "    <tr>\n",
       "      <th>2</th>\n",
       "      <td>6.000000</td>\n",
       "      <td>5.000000</td>\n",
       "      <td>5.000000</td>\n",
       "    </tr>\n",
       "    <tr>\n",
       "      <th>3</th>\n",
       "      <td>1.181202</td>\n",
       "      <td>8.000000</td>\n",
       "      <td>6.000000</td>\n",
       "    </tr>\n",
       "    <tr>\n",
       "      <th>4</th>\n",
       "      <td>7.000000</td>\n",
       "      <td>12.000000</td>\n",
       "      <td>14.000000</td>\n",
       "    </tr>\n",
       "    <tr>\n",
       "      <th>5</th>\n",
       "      <td>1.000000</td>\n",
       "      <td>7.000972</td>\n",
       "      <td>7.000000</td>\n",
       "    </tr>\n",
       "    <tr>\n",
       "      <th>6</th>\n",
       "      <td>0.000000</td>\n",
       "      <td>0.000000</td>\n",
       "      <td>0.000000</td>\n",
       "    </tr>\n",
       "    <tr>\n",
       "      <th>7</th>\n",
       "      <td>9.000000</td>\n",
       "      <td>2.000000</td>\n",
       "      <td>2.000000</td>\n",
       "    </tr>\n",
       "    <tr>\n",
       "      <th>8</th>\n",
       "      <td>15.000000</td>\n",
       "      <td>3.000000</td>\n",
       "      <td>31.000000</td>\n",
       "    </tr>\n",
       "  </tbody>\n",
       "</table>\n",
       "</div>"
      ],
      "text/plain": [
       "          V1         V2         V3\n",
       "0   1.000000   7.000000   7.000109\n",
       "1   3.000000   7.878983  12.000000\n",
       "2   6.000000   5.000000   5.000000\n",
       "3   1.181202   8.000000   6.000000\n",
       "4   7.000000  12.000000  14.000000\n",
       "5   1.000000   7.000972   7.000000\n",
       "6   0.000000   0.000000   0.000000\n",
       "7   9.000000   2.000000   2.000000\n",
       "8  15.000000   3.000000  31.000000"
      ]
     },
     "execution_count": 71,
     "metadata": {},
     "output_type": "execute_result"
    }
   ],
   "source": [
    "without_missing_df=knnimput.KNN(k=4).complete(np_df)\n",
    "without_missing_df=pd.DataFrame(without_missing_df,columns=[\"V1\",\"V2\",\"V3\"])\n",
    "without_missing_df"
   ]
  },
  {
   "cell_type": "markdown",
   "id": "7aee2f16",
   "metadata": {
    "papermill": {
     "duration": 0.054647,
     "end_time": "2022-07-29T09:13:41.231695",
     "exception": false,
     "start_time": "2022-07-29T09:13:41.177048",
     "status": "completed"
    },
    "tags": []
   },
   "source": [
    "<a id=\"25\"></a>\n",
    "\n",
    "# CATEGORICAL DATA\n",
    "\n",
    "* It is often useful to measure objects not in terms of their quantity but in terms of some quality.\n",
    "* We frequently represent this qualitative information as an observation’s membership in a discrete category such as gender, colors, or brand of car.\n",
    "* However, not all categorical data is the same. Sets of categories with no intrinsic ordering is called **nominal**.\n",
    "* **Example for Nominal Categories:**\n",
    "    - Blue, Purple, Red\n",
    "    - Man, Woman\n",
    "    - Kiwi, Banana, Watermelon\n",
    "\n",
    "* When a set of categories has some natural ordering we refer to it as **ordinal**.\n",
    "* **Example for Ordinal Categories:**\n",
    "    - Low, Medium, High\n",
    "    - Young, Old\n",
    "    - Agree, Neutral, Disagree"
   ]
  },
  {
   "cell_type": "markdown",
   "id": "b02d5157",
   "metadata": {
    "papermill": {
     "duration": 0.053052,
     "end_time": "2022-07-29T09:13:41.338096",
     "exception": false,
     "start_time": "2022-07-29T09:13:41.285044",
     "status": "completed"
    },
    "tags": []
   },
   "source": [
    "<a id=\"26\"></a>\n",
    "\n",
    "# ENCODING NOMINAL CATEGORICAL FEATURES"
   ]
  },
  {
   "cell_type": "markdown",
   "id": "89bae308",
   "metadata": {
    "papermill": {
     "duration": 0.052757,
     "end_time": "2022-07-29T09:13:41.443993",
     "exception": false,
     "start_time": "2022-07-29T09:13:41.391236",
     "status": "completed"
    },
    "tags": []
   },
   "source": [
    "<a id=\"27\"></a>\n",
    "\n",
    "### One-Hot Encoding"
   ]
  },
  {
   "cell_type": "code",
   "execution_count": 72,
   "id": "ac1893a1",
   "metadata": {
    "execution": {
     "iopub.execute_input": "2022-07-29T09:13:41.552719Z",
     "iopub.status.busy": "2022-07-29T09:13:41.552341Z",
     "iopub.status.idle": "2022-07-29T09:13:41.556647Z",
     "shell.execute_reply": "2022-07-29T09:13:41.555741Z"
    },
    "papermill": {
     "duration": 0.061219,
     "end_time": "2022-07-29T09:13:41.558757",
     "exception": false,
     "start_time": "2022-07-29T09:13:41.497538",
     "status": "completed"
    },
    "tags": []
   },
   "outputs": [],
   "source": [
    "from sklearn.preprocessing import LabelBinarizer,MultiLabelBinarizer"
   ]
  },
  {
   "cell_type": "code",
   "execution_count": 73,
   "id": "6ad22957",
   "metadata": {
    "execution": {
     "iopub.execute_input": "2022-07-29T09:13:41.668968Z",
     "iopub.status.busy": "2022-07-29T09:13:41.668581Z",
     "iopub.status.idle": "2022-07-29T09:13:41.673976Z",
     "shell.execute_reply": "2022-07-29T09:13:41.672873Z"
    },
    "papermill": {
     "duration": 0.063441,
     "end_time": "2022-07-29T09:13:41.676404",
     "exception": false,
     "start_time": "2022-07-29T09:13:41.612963",
     "status": "completed"
    },
    "tags": []
   },
   "outputs": [],
   "source": [
    "countries = np.array([\n",
    "    [\"Turkey\"],\n",
    "    [\"USA\"],\n",
    "    [\"Canada\"],\n",
    "    [\"Spain\"],\n",
    "    [\"Turkey\"],\n",
    "    [\"Canada\"],\n",
    "\n",
    "])"
   ]
  },
  {
   "cell_type": "code",
   "execution_count": 74,
   "id": "66d853bb",
   "metadata": {
    "execution": {
     "iopub.execute_input": "2022-07-29T09:13:41.784667Z",
     "iopub.status.busy": "2022-07-29T09:13:41.784291Z",
     "iopub.status.idle": "2022-07-29T09:13:41.793259Z",
     "shell.execute_reply": "2022-07-29T09:13:41.791976Z"
    },
    "papermill": {
     "duration": 0.065479,
     "end_time": "2022-07-29T09:13:41.795358",
     "exception": false,
     "start_time": "2022-07-29T09:13:41.729879",
     "status": "completed"
    },
    "tags": []
   },
   "outputs": [
    {
     "data": {
      "text/plain": [
       "array([[0, 0, 1, 0],\n",
       "       [0, 0, 0, 1],\n",
       "       [1, 0, 0, 0],\n",
       "       [0, 1, 0, 0],\n",
       "       [0, 0, 1, 0],\n",
       "       [1, 0, 0, 0]])"
      ]
     },
     "execution_count": 74,
     "metadata": {},
     "output_type": "execute_result"
    }
   ],
   "source": [
    "# LabelBinarizer\n",
    "one_hot=LabelBinarizer()\n",
    "one_hot.fit_transform(countries)"
   ]
  },
  {
   "cell_type": "code",
   "execution_count": 75,
   "id": "13a96b72",
   "metadata": {
    "execution": {
     "iopub.execute_input": "2022-07-29T09:13:41.904285Z",
     "iopub.status.busy": "2022-07-29T09:13:41.903864Z",
     "iopub.status.idle": "2022-07-29T09:13:41.912383Z",
     "shell.execute_reply": "2022-07-29T09:13:41.911187Z"
    },
    "papermill": {
     "duration": 0.06582,
     "end_time": "2022-07-29T09:13:41.914673",
     "exception": false,
     "start_time": "2022-07-29T09:13:41.848853",
     "status": "completed"
    },
    "tags": []
   },
   "outputs": [
    {
     "data": {
      "text/plain": [
       "array(['Turkey', 'USA', 'Canada', 'Spain', 'Turkey', 'Canada'],\n",
       "      dtype='<U6')"
      ]
     },
     "execution_count": 75,
     "metadata": {},
     "output_type": "execute_result"
    }
   ],
   "source": [
    "# Inverse Transform:\n",
    "one_hot.inverse_transform(one_hot.fit_transform(countries))"
   ]
  },
  {
   "cell_type": "code",
   "execution_count": 76,
   "id": "365bf90a",
   "metadata": {
    "execution": {
     "iopub.execute_input": "2022-07-29T09:13:42.024674Z",
     "iopub.status.busy": "2022-07-29T09:13:42.024256Z",
     "iopub.status.idle": "2022-07-29T09:13:42.030306Z",
     "shell.execute_reply": "2022-07-29T09:13:42.029216Z"
    },
    "papermill": {
     "duration": 0.063428,
     "end_time": "2022-07-29T09:13:42.032518",
     "exception": false,
     "start_time": "2022-07-29T09:13:41.969090",
     "status": "completed"
    },
    "tags": []
   },
   "outputs": [],
   "source": [
    "multi_countries=[\n",
    "    (\"Turkey\",\"Istanbul\"),\n",
    "    (\"USA\",\"California\"),\n",
    "    (\"France\",\"Nice\"),\n",
    "    (\"Turkey\",\"Antalya\"),\n",
    "    (\"Italy\",\"Milano\"),\n",
    "    (\"Turkey\",\"Istanbul\"),\n",
    "    (\"France\",\"Paris\"),\n",
    "    (\"USA\",\"California\"),\n",
    "    \n",
    "]"
   ]
  },
  {
   "cell_type": "code",
   "execution_count": 77,
   "id": "c42cf757",
   "metadata": {
    "execution": {
     "iopub.execute_input": "2022-07-29T09:13:42.141519Z",
     "iopub.status.busy": "2022-07-29T09:13:42.141134Z",
     "iopub.status.idle": "2022-07-29T09:13:42.149339Z",
     "shell.execute_reply": "2022-07-29T09:13:42.148055Z"
    },
    "papermill": {
     "duration": 0.065642,
     "end_time": "2022-07-29T09:13:42.151685",
     "exception": false,
     "start_time": "2022-07-29T09:13:42.086043",
     "status": "completed"
    },
    "tags": []
   },
   "outputs": [
    {
     "data": {
      "text/plain": [
       "array([[0, 0, 0, 1, 0, 0, 0, 0, 1, 0],\n",
       "       [0, 1, 0, 0, 0, 0, 0, 0, 0, 1],\n",
       "       [0, 0, 1, 0, 0, 0, 1, 0, 0, 0],\n",
       "       [1, 0, 0, 0, 0, 0, 0, 0, 1, 0],\n",
       "       [0, 0, 0, 0, 1, 1, 0, 0, 0, 0],\n",
       "       [0, 0, 0, 1, 0, 0, 0, 0, 1, 0],\n",
       "       [0, 0, 1, 0, 0, 0, 0, 1, 0, 0],\n",
       "       [0, 1, 0, 0, 0, 0, 0, 0, 0, 1]])"
      ]
     },
     "execution_count": 77,
     "metadata": {},
     "output_type": "execute_result"
    }
   ],
   "source": [
    "# MultiLabelBinarizer:\n",
    "one_hot_multiple=MultiLabelBinarizer()\n",
    "one_hot_multiple.fit_transform(multi_countries)"
   ]
  },
  {
   "cell_type": "code",
   "execution_count": 78,
   "id": "a308e27e",
   "metadata": {
    "execution": {
     "iopub.execute_input": "2022-07-29T09:13:42.262788Z",
     "iopub.status.busy": "2022-07-29T09:13:42.262363Z",
     "iopub.status.idle": "2022-07-29T09:13:42.270013Z",
     "shell.execute_reply": "2022-07-29T09:13:42.269090Z"
    },
    "papermill": {
     "duration": 0.065754,
     "end_time": "2022-07-29T09:13:42.272120",
     "exception": false,
     "start_time": "2022-07-29T09:13:42.206366",
     "status": "completed"
    },
    "tags": []
   },
   "outputs": [
    {
     "data": {
      "text/plain": [
       "array(['Antalya', 'California', 'France', 'Istanbul', 'Italy', 'Milano',\n",
       "       'Nice', 'Paris', 'Turkey', 'USA'], dtype=object)"
      ]
     },
     "execution_count": 78,
     "metadata": {},
     "output_type": "execute_result"
    }
   ],
   "source": [
    "one_hot_multiple.classes_"
   ]
  },
  {
   "cell_type": "markdown",
   "id": "bf2f3ed0",
   "metadata": {
    "papermill": {
     "duration": 0.054388,
     "end_time": "2022-07-29T09:13:42.380708",
     "exception": false,
     "start_time": "2022-07-29T09:13:42.326320",
     "status": "completed"
    },
    "tags": []
   },
   "source": [
    "<a id=\"28\"></a>\n",
    "\n",
    "### Dummy Variable Trap\n",
    "\n",
    "* The Dummy Variable Trap occurs when two or more dummy variables created by one-hot encoding are highly correlated (multi-collinear).\n",
    "* This means that one variable can be predicted from the others, making it difficult to interpret predicted coefficient variables in regression models.\n"
   ]
  },
  {
   "cell_type": "code",
   "execution_count": 79,
   "id": "d7ecfcc1",
   "metadata": {
    "execution": {
     "iopub.execute_input": "2022-07-29T09:13:42.490133Z",
     "iopub.status.busy": "2022-07-29T09:13:42.489740Z",
     "iopub.status.idle": "2022-07-29T09:13:42.503214Z",
     "shell.execute_reply": "2022-07-29T09:13:42.502095Z"
    },
    "papermill": {
     "duration": 0.070947,
     "end_time": "2022-07-29T09:13:42.505464",
     "exception": false,
     "start_time": "2022-07-29T09:13:42.434517",
     "status": "completed"
    },
    "tags": []
   },
   "outputs": [
    {
     "data": {
      "text/html": [
       "<div>\n",
       "<style scoped>\n",
       "    .dataframe tbody tr th:only-of-type {\n",
       "        vertical-align: middle;\n",
       "    }\n",
       "\n",
       "    .dataframe tbody tr th {\n",
       "        vertical-align: top;\n",
       "    }\n",
       "\n",
       "    .dataframe thead th {\n",
       "        text-align: right;\n",
       "    }\n",
       "</style>\n",
       "<table border=\"1\" class=\"dataframe\">\n",
       "  <thead>\n",
       "    <tr style=\"text-align: right;\">\n",
       "      <th></th>\n",
       "      <th>Canada</th>\n",
       "      <th>Spain</th>\n",
       "      <th>Turkey</th>\n",
       "      <th>USA</th>\n",
       "    </tr>\n",
       "  </thead>\n",
       "  <tbody>\n",
       "    <tr>\n",
       "      <th>0</th>\n",
       "      <td>0</td>\n",
       "      <td>0</td>\n",
       "      <td>1</td>\n",
       "      <td>0</td>\n",
       "    </tr>\n",
       "    <tr>\n",
       "      <th>1</th>\n",
       "      <td>0</td>\n",
       "      <td>0</td>\n",
       "      <td>0</td>\n",
       "      <td>1</td>\n",
       "    </tr>\n",
       "    <tr>\n",
       "      <th>2</th>\n",
       "      <td>1</td>\n",
       "      <td>0</td>\n",
       "      <td>0</td>\n",
       "      <td>0</td>\n",
       "    </tr>\n",
       "    <tr>\n",
       "      <th>3</th>\n",
       "      <td>0</td>\n",
       "      <td>1</td>\n",
       "      <td>0</td>\n",
       "      <td>0</td>\n",
       "    </tr>\n",
       "    <tr>\n",
       "      <th>4</th>\n",
       "      <td>0</td>\n",
       "      <td>0</td>\n",
       "      <td>1</td>\n",
       "      <td>0</td>\n",
       "    </tr>\n",
       "    <tr>\n",
       "      <th>5</th>\n",
       "      <td>1</td>\n",
       "      <td>0</td>\n",
       "      <td>0</td>\n",
       "      <td>0</td>\n",
       "    </tr>\n",
       "  </tbody>\n",
       "</table>\n",
       "</div>"
      ],
      "text/plain": [
       "   Canada  Spain  Turkey  USA\n",
       "0       0      0       1    0\n",
       "1       0      0       0    1\n",
       "2       1      0       0    0\n",
       "3       0      1       0    0\n",
       "4       0      0       1    0\n",
       "5       1      0       0    0"
      ]
     },
     "execution_count": 79,
     "metadata": {},
     "output_type": "execute_result"
    }
   ],
   "source": [
    "import pandas as pd\n",
    "pd.get_dummies(countries[:,0])"
   ]
  },
  {
   "cell_type": "markdown",
   "id": "bed4b834",
   "metadata": {
    "papermill": {
     "duration": 0.053768,
     "end_time": "2022-07-29T09:13:42.613303",
     "exception": false,
     "start_time": "2022-07-29T09:13:42.559535",
     "status": "completed"
    },
    "tags": []
   },
   "source": [
    "<a id=\"29\"></a>\n",
    "\n",
    "# ENCODING ORDINAL CATEGORICAL FEATURES"
   ]
  },
  {
   "cell_type": "code",
   "execution_count": 80,
   "id": "b987424d",
   "metadata": {
    "execution": {
     "iopub.execute_input": "2022-07-29T09:13:42.724460Z",
     "iopub.status.busy": "2022-07-29T09:13:42.723267Z",
     "iopub.status.idle": "2022-07-29T09:13:42.735075Z",
     "shell.execute_reply": "2022-07-29T09:13:42.733150Z"
    },
    "papermill": {
     "duration": 0.06957,
     "end_time": "2022-07-29T09:13:42.737278",
     "exception": false,
     "start_time": "2022-07-29T09:13:42.667708",
     "status": "completed"
    },
    "tags": []
   },
   "outputs": [
    {
     "data": {
      "text/html": [
       "<div>\n",
       "<style scoped>\n",
       "    .dataframe tbody tr th:only-of-type {\n",
       "        vertical-align: middle;\n",
       "    }\n",
       "\n",
       "    .dataframe tbody tr th {\n",
       "        vertical-align: top;\n",
       "    }\n",
       "\n",
       "    .dataframe thead th {\n",
       "        text-align: right;\n",
       "    }\n",
       "</style>\n",
       "<table border=\"1\" class=\"dataframe\">\n",
       "  <thead>\n",
       "    <tr style=\"text-align: right;\">\n",
       "      <th></th>\n",
       "      <th>Score</th>\n",
       "    </tr>\n",
       "  </thead>\n",
       "  <tbody>\n",
       "    <tr>\n",
       "      <th>0</th>\n",
       "      <td>Low</td>\n",
       "    </tr>\n",
       "    <tr>\n",
       "      <th>1</th>\n",
       "      <td>High</td>\n",
       "    </tr>\n",
       "    <tr>\n",
       "      <th>2</th>\n",
       "      <td>Low</td>\n",
       "    </tr>\n",
       "    <tr>\n",
       "      <th>3</th>\n",
       "      <td>Medium</td>\n",
       "    </tr>\n",
       "    <tr>\n",
       "      <th>4</th>\n",
       "      <td>High</td>\n",
       "    </tr>\n",
       "  </tbody>\n",
       "</table>\n",
       "</div>"
      ],
      "text/plain": [
       "    Score\n",
       "0     Low\n",
       "1    High\n",
       "2     Low\n",
       "3  Medium\n",
       "4    High"
      ]
     },
     "execution_count": 80,
     "metadata": {},
     "output_type": "execute_result"
    }
   ],
   "source": [
    "score_data=pd.DataFrame([\"Low\",\"High\",\"Low\",\"Medium\",\"High\"],columns=[\"Score\"])\n",
    "score_data.head()"
   ]
  },
  {
   "cell_type": "code",
   "execution_count": 81,
   "id": "d06684b2",
   "metadata": {
    "execution": {
     "iopub.execute_input": "2022-07-29T09:13:42.849278Z",
     "iopub.status.busy": "2022-07-29T09:13:42.848142Z",
     "iopub.status.idle": "2022-07-29T09:13:42.853381Z",
     "shell.execute_reply": "2022-07-29T09:13:42.852434Z"
    },
    "papermill": {
     "duration": 0.063366,
     "end_time": "2022-07-29T09:13:42.855529",
     "exception": false,
     "start_time": "2022-07-29T09:13:42.792163",
     "status": "completed"
    },
    "tags": []
   },
   "outputs": [],
   "source": [
    "scale_mapper={\n",
    "    \"Low\":1,\n",
    "    \"Medium\":2,\n",
    "    \"High\":3\n",
    "}"
   ]
  },
  {
   "cell_type": "code",
   "execution_count": 82,
   "id": "0fdd2b8f",
   "metadata": {
    "execution": {
     "iopub.execute_input": "2022-07-29T09:13:42.967134Z",
     "iopub.status.busy": "2022-07-29T09:13:42.966009Z",
     "iopub.status.idle": "2022-07-29T09:13:42.974764Z",
     "shell.execute_reply": "2022-07-29T09:13:42.974003Z"
    },
    "papermill": {
     "duration": 0.066675,
     "end_time": "2022-07-29T09:13:42.976821",
     "exception": false,
     "start_time": "2022-07-29T09:13:42.910146",
     "status": "completed"
    },
    "tags": []
   },
   "outputs": [
    {
     "data": {
      "text/plain": [
       "0    1\n",
       "1    3\n",
       "2    1\n",
       "3    2\n",
       "4    3\n",
       "Name: Score, dtype: int64"
      ]
     },
     "execution_count": 82,
     "metadata": {},
     "output_type": "execute_result"
    }
   ],
   "source": [
    "score_data[\"Score\"].replace(scale_mapper)"
   ]
  },
  {
   "cell_type": "markdown",
   "id": "02f7c1dc",
   "metadata": {
    "papermill": {
     "duration": 0.054772,
     "end_time": "2022-07-29T09:13:43.086277",
     "exception": false,
     "start_time": "2022-07-29T09:13:43.031505",
     "status": "completed"
    },
    "tags": []
   },
   "source": [
    "<a id=\"30\"></a>\n",
    "\n",
    "# TEXT\n",
    "\n",
    "* Unstructured text data, like the contents of a book or a tweet, is both one of the most interesting sources of features and one of the most complex to handle.\n",
    "* In this section, we will cover strategies for transforming text into information-rich features."
   ]
  },
  {
   "cell_type": "markdown",
   "id": "9802ac30",
   "metadata": {
    "papermill": {
     "duration": 0.054066,
     "end_time": "2022-07-29T09:13:43.195925",
     "exception": false,
     "start_time": "2022-07-29T09:13:43.141859",
     "status": "completed"
    },
    "tags": []
   },
   "source": [
    "<a id=\"31\"></a>\n",
    "\n",
    "# CLEANING TEXT\n",
    "\n",
    "* Most text data will need to be cleaned before we can use it to build features.\n",
    "* Most basic text cleaning can be completed using Python’s standard string operations."
   ]
  },
  {
   "cell_type": "code",
   "execution_count": 83,
   "id": "340171ff",
   "metadata": {
    "execution": {
     "iopub.execute_input": "2022-07-29T09:13:43.321294Z",
     "iopub.status.busy": "2022-07-29T09:13:43.320286Z",
     "iopub.status.idle": "2022-07-29T09:13:43.326363Z",
     "shell.execute_reply": "2022-07-29T09:13:43.325295Z"
    },
    "papermill": {
     "duration": 0.068721,
     "end_time": "2022-07-29T09:13:43.329675",
     "exception": false,
     "start_time": "2022-07-29T09:13:43.260954",
     "status": "completed"
    },
    "tags": []
   },
   "outputs": [],
   "source": [
    "text_data = [\" Interrobang. By Aishwarya Henriette \",\n",
    "             \"Parking And Going. By Karl Gautier\",\n",
    "             \" Today Is The night. By Jarek Prakash \"]"
   ]
  },
  {
   "cell_type": "code",
   "execution_count": 84,
   "id": "b06327fe",
   "metadata": {
    "execution": {
     "iopub.execute_input": "2022-07-29T09:13:43.467067Z",
     "iopub.status.busy": "2022-07-29T09:13:43.466060Z",
     "iopub.status.idle": "2022-07-29T09:13:43.474501Z",
     "shell.execute_reply": "2022-07-29T09:13:43.473524Z"
    },
    "papermill": {
     "duration": 0.078436,
     "end_time": "2022-07-29T09:13:43.476968",
     "exception": false,
     "start_time": "2022-07-29T09:13:43.398532",
     "status": "completed"
    },
    "tags": []
   },
   "outputs": [
    {
     "data": {
      "text/plain": [
       "['Interrobang. By Aishwarya Henriette',\n",
       " 'Parking And Going. By Karl Gautier',\n",
       " 'Today Is The night. By Jarek Prakash']"
      ]
     },
     "execution_count": 84,
     "metadata": {},
     "output_type": "execute_result"
    }
   ],
   "source": [
    "# Strip whitespaces\n",
    "strip_whitespace = [string.strip() for string in text_data]\n",
    "strip_whitespace"
   ]
  },
  {
   "cell_type": "code",
   "execution_count": 85,
   "id": "1ab24f65",
   "metadata": {
    "execution": {
     "iopub.execute_input": "2022-07-29T09:13:43.599892Z",
     "iopub.status.busy": "2022-07-29T09:13:43.598621Z",
     "iopub.status.idle": "2022-07-29T09:13:43.606578Z",
     "shell.execute_reply": "2022-07-29T09:13:43.605687Z"
    },
    "papermill": {
     "duration": 0.066178,
     "end_time": "2022-07-29T09:13:43.608748",
     "exception": false,
     "start_time": "2022-07-29T09:13:43.542570",
     "status": "completed"
    },
    "tags": []
   },
   "outputs": [
    {
     "data": {
      "text/plain": [
       "['Interrobang By Aishwarya Henriette',\n",
       " 'Parking And Going By Karl Gautier',\n",
       " 'Today Is The night By Jarek Prakash']"
      ]
     },
     "execution_count": 85,
     "metadata": {},
     "output_type": "execute_result"
    }
   ],
   "source": [
    "# Remove periods\n",
    "remove_periods = [string.replace(\".\", \"\") for string in strip_whitespace]\n",
    "remove_periods"
   ]
  },
  {
   "cell_type": "code",
   "execution_count": 86,
   "id": "635dde93",
   "metadata": {
    "execution": {
     "iopub.execute_input": "2022-07-29T09:13:43.720403Z",
     "iopub.status.busy": "2022-07-29T09:13:43.720018Z",
     "iopub.status.idle": "2022-07-29T09:13:43.731068Z",
     "shell.execute_reply": "2022-07-29T09:13:43.729891Z"
    },
    "papermill": {
     "duration": 0.069865,
     "end_time": "2022-07-29T09:13:43.733241",
     "exception": false,
     "start_time": "2022-07-29T09:13:43.663376",
     "status": "completed"
    },
    "tags": []
   },
   "outputs": [
    {
     "data": {
      "text/plain": [
       "0     interrobang by aishwarya henriette\n",
       "1      parking and going by karl gautier\n",
       "2    today is the night by jarek prakash\n",
       "Name: sentence, dtype: object"
      ]
     },
     "execution_count": 86,
     "metadata": {},
     "output_type": "execute_result"
    }
   ],
   "source": [
    "remove_periods_DF=pd.DataFrame(remove_periods,columns=[\"sentence\"])\n",
    "remove_periods_DF[\"sentence\"]=remove_periods_DF[\"sentence\"].apply(lambda x: \" \".join(x.lower() for x in x.split()))\n",
    "remove_periods_DF[\"sentence\"]"
   ]
  },
  {
   "cell_type": "markdown",
   "id": "a24461b2",
   "metadata": {
    "papermill": {
     "duration": 0.055043,
     "end_time": "2022-07-29T09:13:43.843184",
     "exception": false,
     "start_time": "2022-07-29T09:13:43.788141",
     "status": "completed"
    },
    "tags": []
   },
   "source": [
    "<a id=\"32\"></a>\n",
    "\n",
    "# REMOVING PUNCTUATION\n",
    "\n",
    "* It is important to be conscious of the fact that punctuation contains information. For example: “Right?” versus “Right!”.\n",
    "* Removing punctuation is often a necessary evil to create features.\n",
    "* if the punctuation is important we should make sure to take that into account.\n"
   ]
  },
  {
   "cell_type": "code",
   "execution_count": 87,
   "id": "849602f4",
   "metadata": {
    "execution": {
     "iopub.execute_input": "2022-07-29T09:13:43.955451Z",
     "iopub.status.busy": "2022-07-29T09:13:43.955054Z",
     "iopub.status.idle": "2022-07-29T09:13:43.959362Z",
     "shell.execute_reply": "2022-07-29T09:13:43.958601Z"
    },
    "papermill": {
     "duration": 0.063235,
     "end_time": "2022-07-29T09:13:43.961490",
     "exception": false,
     "start_time": "2022-07-29T09:13:43.898255",
     "status": "completed"
    },
    "tags": []
   },
   "outputs": [],
   "source": [
    "import unicodedata\n",
    "import sys"
   ]
  },
  {
   "cell_type": "code",
   "execution_count": 88,
   "id": "04c255a8",
   "metadata": {
    "execution": {
     "iopub.execute_input": "2022-07-29T09:13:44.079738Z",
     "iopub.status.busy": "2022-07-29T09:13:44.078572Z",
     "iopub.status.idle": "2022-07-29T09:13:44.083379Z",
     "shell.execute_reply": "2022-07-29T09:13:44.082487Z"
    },
    "papermill": {
     "duration": 0.068214,
     "end_time": "2022-07-29T09:13:44.085497",
     "exception": false,
     "start_time": "2022-07-29T09:13:44.017283",
     "status": "completed"
    },
    "tags": []
   },
   "outputs": [],
   "source": [
    "text_data = ['Hi!!!! I. Love. This. Song....',\n",
    "             '10000% Agree!!!! #LoveIT',\n",
    "             'Right?!?!']"
   ]
  },
  {
   "cell_type": "code",
   "execution_count": 89,
   "id": "84bcfa86",
   "metadata": {
    "execution": {
     "iopub.execute_input": "2022-07-29T09:13:44.197253Z",
     "iopub.status.busy": "2022-07-29T09:13:44.196480Z",
     "iopub.status.idle": "2022-07-29T09:13:44.706189Z",
     "shell.execute_reply": "2022-07-29T09:13:44.705280Z"
    },
    "papermill": {
     "duration": 0.567928,
     "end_time": "2022-07-29T09:13:44.708331",
     "exception": false,
     "start_time": "2022-07-29T09:13:44.140403",
     "status": "completed"
    },
    "tags": []
   },
   "outputs": [
    {
     "data": {
      "text/plain": [
       "['Hi I Love This Song', '10000 Agree LoveIT', 'Right']"
      ]
     },
     "execution_count": 89,
     "metadata": {},
     "output_type": "execute_result"
    }
   ],
   "source": [
    "punctuation = dict.fromkeys(i for i in range(sys.maxunicode) if unicodedata.category(chr(i)).startswith('P'))\n",
    "[string.translate(punctuation) for string in text_data]"
   ]
  },
  {
   "cell_type": "markdown",
   "id": "f500d39a",
   "metadata": {
    "papermill": {
     "duration": 0.054586,
     "end_time": "2022-07-29T09:13:44.817562",
     "exception": false,
     "start_time": "2022-07-29T09:13:44.762976",
     "status": "completed"
    },
    "tags": []
   },
   "source": [
    "<a id=\"33\"></a>\n",
    "\n",
    "# TOKENIZING TEXT\n",
    "\n",
    "* Tokenization, especially word tokenization, is a common task after cleaning text data.\n",
    "* Because it is the first step in the process of turning the text into data we will use to construct useful features."
   ]
  },
  {
   "cell_type": "code",
   "execution_count": 90,
   "id": "1195baf7",
   "metadata": {
    "execution": {
     "iopub.execute_input": "2022-07-29T09:13:44.929041Z",
     "iopub.status.busy": "2022-07-29T09:13:44.928545Z",
     "iopub.status.idle": "2022-07-29T09:13:45.548672Z",
     "shell.execute_reply": "2022-07-29T09:13:45.547380Z"
    },
    "papermill": {
     "duration": 0.679316,
     "end_time": "2022-07-29T09:13:45.551645",
     "exception": false,
     "start_time": "2022-07-29T09:13:44.872329",
     "status": "completed"
    },
    "tags": []
   },
   "outputs": [],
   "source": [
    "from nltk.tokenize import word_tokenize"
   ]
  },
  {
   "cell_type": "code",
   "execution_count": 91,
   "id": "b4070381",
   "metadata": {
    "execution": {
     "iopub.execute_input": "2022-07-29T09:13:45.665209Z",
     "iopub.status.busy": "2022-07-29T09:13:45.664757Z",
     "iopub.status.idle": "2022-07-29T09:13:45.669686Z",
     "shell.execute_reply": "2022-07-29T09:13:45.668812Z"
    },
    "papermill": {
     "duration": 0.064141,
     "end_time": "2022-07-29T09:13:45.671984",
     "exception": false,
     "start_time": "2022-07-29T09:13:45.607843",
     "status": "completed"
    },
    "tags": []
   },
   "outputs": [],
   "source": [
    "string=\"The science of today is the technology of tomorrow\""
   ]
  },
  {
   "cell_type": "code",
   "execution_count": 92,
   "id": "1328a034",
   "metadata": {
    "execution": {
     "iopub.execute_input": "2022-07-29T09:13:45.786655Z",
     "iopub.status.busy": "2022-07-29T09:13:45.786021Z",
     "iopub.status.idle": "2022-07-29T09:13:45.809377Z",
     "shell.execute_reply": "2022-07-29T09:13:45.808012Z"
    },
    "papermill": {
     "duration": 0.08428,
     "end_time": "2022-07-29T09:13:45.811946",
     "exception": false,
     "start_time": "2022-07-29T09:13:45.727666",
     "status": "completed"
    },
    "tags": []
   },
   "outputs": [
    {
     "data": {
      "text/plain": [
       "['The', 'science', 'of', 'today', 'is', 'the', 'technology', 'of', 'tomorrow']"
      ]
     },
     "execution_count": 92,
     "metadata": {},
     "output_type": "execute_result"
    }
   ],
   "source": [
    "word_tokenize(string)"
   ]
  },
  {
   "cell_type": "markdown",
   "id": "3d29c86e",
   "metadata": {
    "papermill": {
     "duration": 0.054479,
     "end_time": "2022-07-29T09:13:45.921411",
     "exception": false,
     "start_time": "2022-07-29T09:13:45.866932",
     "status": "completed"
    },
    "tags": []
   },
   "source": [
    "We can also tokenize into sentences"
   ]
  },
  {
   "cell_type": "code",
   "execution_count": 93,
   "id": "68e09cdf",
   "metadata": {
    "execution": {
     "iopub.execute_input": "2022-07-29T09:13:46.090494Z",
     "iopub.status.busy": "2022-07-29T09:13:46.089762Z",
     "iopub.status.idle": "2022-07-29T09:13:46.094373Z",
     "shell.execute_reply": "2022-07-29T09:13:46.093323Z"
    },
    "papermill": {
     "duration": 0.119727,
     "end_time": "2022-07-29T09:13:46.096413",
     "exception": false,
     "start_time": "2022-07-29T09:13:45.976686",
     "status": "completed"
    },
    "tags": []
   },
   "outputs": [],
   "source": [
    "from nltk.tokenize import sent_tokenize"
   ]
  },
  {
   "cell_type": "code",
   "execution_count": 94,
   "id": "0d5436a1",
   "metadata": {
    "execution": {
     "iopub.execute_input": "2022-07-29T09:13:46.208032Z",
     "iopub.status.busy": "2022-07-29T09:13:46.207616Z",
     "iopub.status.idle": "2022-07-29T09:13:46.216850Z",
     "shell.execute_reply": "2022-07-29T09:13:46.215973Z"
    },
    "papermill": {
     "duration": 0.067466,
     "end_time": "2022-07-29T09:13:46.218911",
     "exception": false,
     "start_time": "2022-07-29T09:13:46.151445",
     "status": "completed"
    },
    "tags": []
   },
   "outputs": [
    {
     "data": {
      "text/plain": [
       "['The science of today is the technology of tomorrow.', 'Today science be.']"
      ]
     },
     "execution_count": 94,
     "metadata": {},
     "output_type": "execute_result"
    }
   ],
   "source": [
    "string=\"The science of today is the technology of tomorrow. Today science be.\"\n",
    "sent_tokenize(string)"
   ]
  },
  {
   "cell_type": "markdown",
   "id": "d14096fc",
   "metadata": {
    "papermill": {
     "duration": 0.055351,
     "end_time": "2022-07-29T09:13:46.329313",
     "exception": false,
     "start_time": "2022-07-29T09:13:46.273962",
     "status": "completed"
    },
    "tags": []
   },
   "source": [
    "<a id=\"34\"></a>\n",
    "\n",
    "# REMOVING STOP WORDS\n",
    "\n",
    "* While “stop words” can refer to any set of words we want to remove before processing.\n",
    "* Frequently the term refers to extremely common words that themselves contain little information value.\n"
   ]
  },
  {
   "cell_type": "code",
   "execution_count": 95,
   "id": "8a382ec3",
   "metadata": {
    "execution": {
     "iopub.execute_input": "2022-07-29T09:13:46.442349Z",
     "iopub.status.busy": "2022-07-29T09:13:46.441113Z",
     "iopub.status.idle": "2022-07-29T09:13:46.446851Z",
     "shell.execute_reply": "2022-07-29T09:13:46.445996Z"
    },
    "papermill": {
     "duration": 0.064747,
     "end_time": "2022-07-29T09:13:46.449130",
     "exception": false,
     "start_time": "2022-07-29T09:13:46.384383",
     "status": "completed"
    },
    "tags": []
   },
   "outputs": [],
   "source": [
    "from nltk.corpus import stopwords"
   ]
  },
  {
   "cell_type": "markdown",
   "id": "0ddecc86",
   "metadata": {
    "papermill": {
     "duration": 0.057623,
     "end_time": "2022-07-29T09:13:46.562023",
     "exception": false,
     "start_time": "2022-07-29T09:13:46.504400",
     "status": "completed"
    },
    "tags": []
   },
   "source": [
    "* NLTK has a list of common stop words that we can use to find and remove stop words in our tokenized words:"
   ]
  },
  {
   "cell_type": "code",
   "execution_count": 96,
   "id": "9c2bd247",
   "metadata": {
    "execution": {
     "iopub.execute_input": "2022-07-29T09:13:46.674769Z",
     "iopub.status.busy": "2022-07-29T09:13:46.674385Z",
     "iopub.status.idle": "2022-07-29T09:13:46.680302Z",
     "shell.execute_reply": "2022-07-29T09:13:46.679063Z"
    },
    "papermill": {
     "duration": 0.06505,
     "end_time": "2022-07-29T09:13:46.682791",
     "exception": false,
     "start_time": "2022-07-29T09:13:46.617741",
     "status": "completed"
    },
    "tags": []
   },
   "outputs": [],
   "source": [
    "tokenized_words = ['i',\n",
    "                   'am',\n",
    "                   'going',\n",
    "                   'to',\n",
    "                   'go',\n",
    "                   'to',\n",
    "                   'the',\n",
    "                   'store',\n",
    "                   'and',\n",
    "                   'park']"
   ]
  },
  {
   "cell_type": "code",
   "execution_count": 97,
   "id": "91d319b0",
   "metadata": {
    "execution": {
     "iopub.execute_input": "2022-07-29T09:13:46.795709Z",
     "iopub.status.busy": "2022-07-29T09:13:46.795308Z",
     "iopub.status.idle": "2022-07-29T09:13:46.807581Z",
     "shell.execute_reply": "2022-07-29T09:13:46.806854Z"
    },
    "papermill": {
     "duration": 0.071083,
     "end_time": "2022-07-29T09:13:46.809833",
     "exception": false,
     "start_time": "2022-07-29T09:13:46.738750",
     "status": "completed"
    },
    "tags": []
   },
   "outputs": [
    {
     "data": {
      "text/plain": [
       "['going', 'go', 'store', 'park']"
      ]
     },
     "execution_count": 97,
     "metadata": {},
     "output_type": "execute_result"
    }
   ],
   "source": [
    "stop_words=stopwords.words(\"english\")\n",
    "[word for word in tokenized_words if word not in stop_words]"
   ]
  },
  {
   "cell_type": "code",
   "execution_count": 98,
   "id": "8101d570",
   "metadata": {
    "execution": {
     "iopub.execute_input": "2022-07-29T09:13:46.922732Z",
     "iopub.status.busy": "2022-07-29T09:13:46.921939Z",
     "iopub.status.idle": "2022-07-29T09:13:46.929296Z",
     "shell.execute_reply": "2022-07-29T09:13:46.928190Z"
    },
    "papermill": {
     "duration": 0.066806,
     "end_time": "2022-07-29T09:13:46.931666",
     "exception": false,
     "start_time": "2022-07-29T09:13:46.864860",
     "status": "completed"
    },
    "tags": []
   },
   "outputs": [
    {
     "data": {
      "text/plain": [
       "['i',\n",
       " 'me',\n",
       " 'my',\n",
       " 'myself',\n",
       " 'we',\n",
       " 'our',\n",
       " 'ours',\n",
       " 'ourselves',\n",
       " 'you',\n",
       " \"you're\",\n",
       " \"you've\",\n",
       " \"you'll\",\n",
       " \"you'd\",\n",
       " 'your',\n",
       " 'yours',\n",
       " 'yourself',\n",
       " 'yourselves',\n",
       " 'he',\n",
       " 'him',\n",
       " 'his']"
      ]
     },
     "execution_count": 98,
     "metadata": {},
     "output_type": "execute_result"
    }
   ],
   "source": [
    "# Lets look stop words:\n",
    "stop_words[:20]"
   ]
  },
  {
   "cell_type": "markdown",
   "id": "dd8d284c",
   "metadata": {
    "papermill": {
     "duration": 0.055083,
     "end_time": "2022-07-29T09:13:47.041808",
     "exception": false,
     "start_time": "2022-07-29T09:13:46.986725",
     "status": "completed"
    },
    "tags": []
   },
   "source": [
    "<a id=\"35\"></a>\n",
    "\n",
    "# STEMMING WORDS\n",
    "* Stemming reduces a word to its stem by identifying and removing affixes while keeping the **root meaning** of the word.\n",
    "* **For Example:**\n",
    "    - \"Tradition\" and \"Traditional\" have \"tradit\" as their stem.\n",
    "* By stemming our text data, we transform it to something less readable, but closer to its base meaning and thus more suitable for comparison across observations."
   ]
  },
  {
   "cell_type": "code",
   "execution_count": 99,
   "id": "5cafc8ea",
   "metadata": {
    "execution": {
     "iopub.execute_input": "2022-07-29T09:13:47.155066Z",
     "iopub.status.busy": "2022-07-29T09:13:47.154598Z",
     "iopub.status.idle": "2022-07-29T09:13:47.160391Z",
     "shell.execute_reply": "2022-07-29T09:13:47.159246Z"
    },
    "papermill": {
     "duration": 0.064844,
     "end_time": "2022-07-29T09:13:47.162488",
     "exception": false,
     "start_time": "2022-07-29T09:13:47.097644",
     "status": "completed"
    },
    "tags": []
   },
   "outputs": [],
   "source": [
    "from nltk.stem import PorterStemmer\n",
    "porterstemmer=PorterStemmer()"
   ]
  },
  {
   "cell_type": "code",
   "execution_count": 100,
   "id": "e9c791fb",
   "metadata": {
    "execution": {
     "iopub.execute_input": "2022-07-29T09:13:47.276998Z",
     "iopub.status.busy": "2022-07-29T09:13:47.276315Z",
     "iopub.status.idle": "2022-07-29T09:13:47.283988Z",
     "shell.execute_reply": "2022-07-29T09:13:47.282733Z"
    },
    "papermill": {
     "duration": 0.06744,
     "end_time": "2022-07-29T09:13:47.287012",
     "exception": false,
     "start_time": "2022-07-29T09:13:47.219572",
     "status": "completed"
    },
    "tags": []
   },
   "outputs": [
    {
     "name": "stdout",
     "output_type": "stream",
     "text": [
      "müleyk love watch scienc fiction movies.\n"
     ]
    }
   ],
   "source": [
    "text_data=\"Müleyke loved watching science fiction movies.\"\n",
    "stems = [porterstemmer.stem(i) for i in text_data.split()]\n",
    "print(' '.join(stems))"
   ]
  },
  {
   "cell_type": "markdown",
   "id": "309ae728",
   "metadata": {
    "papermill": {
     "duration": 0.054596,
     "end_time": "2022-07-29T09:13:47.398321",
     "exception": false,
     "start_time": "2022-07-29T09:13:47.343725",
     "status": "completed"
    },
    "tags": []
   },
   "source": [
    "<a id=\"36\"></a>\n",
    "\n",
    "# TAGGING PARTS of SPEECH"
   ]
  },
  {
   "cell_type": "code",
   "execution_count": 101,
   "id": "afcdefab",
   "metadata": {
    "execution": {
     "iopub.execute_input": "2022-07-29T09:13:47.510909Z",
     "iopub.status.busy": "2022-07-29T09:13:47.510133Z",
     "iopub.status.idle": "2022-07-29T09:13:47.515467Z",
     "shell.execute_reply": "2022-07-29T09:13:47.514629Z"
    },
    "papermill": {
     "duration": 0.064208,
     "end_time": "2022-07-29T09:13:47.517612",
     "exception": false,
     "start_time": "2022-07-29T09:13:47.453404",
     "status": "completed"
    },
    "tags": []
   },
   "outputs": [],
   "source": [
    "from nltk import pos_tag\n",
    "from nltk import word_tokenize"
   ]
  },
  {
   "cell_type": "code",
   "execution_count": 102,
   "id": "5448b6d3",
   "metadata": {
    "execution": {
     "iopub.execute_input": "2022-07-29T09:13:47.630625Z",
     "iopub.status.busy": "2022-07-29T09:13:47.629861Z",
     "iopub.status.idle": "2022-07-29T09:13:47.818676Z",
     "shell.execute_reply": "2022-07-29T09:13:47.817435Z"
    },
    "papermill": {
     "duration": 0.248154,
     "end_time": "2022-07-29T09:13:47.821558",
     "exception": false,
     "start_time": "2022-07-29T09:13:47.573404",
     "status": "completed"
    },
    "tags": []
   },
   "outputs": [
    {
     "data": {
      "text/plain": [
       "[('Müleyke', 'NNP'),\n",
       " ('loved', 'VBD'),\n",
       " ('watching', 'VBG'),\n",
       " ('science', 'NN'),\n",
       " ('fiction', 'NN'),\n",
       " ('movies', 'NNS'),\n",
       " ('.', '.')]"
      ]
     },
     "execution_count": 102,
     "metadata": {},
     "output_type": "execute_result"
    }
   ],
   "source": [
    "text_data=\"Müleyke loved watching science fiction movies.\"\n",
    "text_tagged= pos_tag(word_tokenize(text_data))\n",
    "text_tagged"
   ]
  },
  {
   "attachments": {
    "53668d23-d673-48db-8ad8-c49dcadd9e8d.png": {
     "image/png": "[encoded data removed]"
    }
   },
   "cell_type": "markdown",
   "id": "4744342f",
   "metadata": {
    "papermill": {
     "duration": 0.055633,
     "end_time": "2022-07-29T09:13:47.933775",
     "exception": false,
     "start_time": "2022-07-29T09:13:47.878142",
     "status": "completed"
    },
    "tags": []
   },
   "source": [
    "![nltk.png](attachment:53668d23-d673-48db-8ad8-c49dcadd9e8d.png)"
   ]
  },
  {
   "cell_type": "code",
   "execution_count": 103,
   "id": "37c1db06",
   "metadata": {
    "execution": {
     "iopub.execute_input": "2022-07-29T09:13:48.052095Z",
     "iopub.status.busy": "2022-07-29T09:13:48.051320Z",
     "iopub.status.idle": "2022-07-29T09:13:48.057722Z",
     "shell.execute_reply": "2022-07-29T09:13:48.056895Z"
    },
    "papermill": {
     "duration": 0.067155,
     "end_time": "2022-07-29T09:13:48.059834",
     "exception": false,
     "start_time": "2022-07-29T09:13:47.992679",
     "status": "completed"
    },
    "tags": []
   },
   "outputs": [
    {
     "data": {
      "text/plain": [
       "['Müleyke']"
      ]
     },
     "execution_count": 103,
     "metadata": {},
     "output_type": "execute_result"
    }
   ],
   "source": [
    "# Filter words\n",
    "[word for word, tag in text_tagged if tag in [\"NNP\"]]"
   ]
  },
  {
   "cell_type": "markdown",
   "id": "617cdb54",
   "metadata": {
    "papermill": {
     "duration": 0.056465,
     "end_time": "2022-07-29T09:13:48.172499",
     "exception": false,
     "start_time": "2022-07-29T09:13:48.116034",
     "status": "completed"
    },
    "tags": []
   },
   "source": [
    "<a id=\"37\"></a>\n",
    "\n",
    "# ENCODING TEXT as a BAG OF WORDS\n",
    "\n",
    "* Bag-of-words models output a feature for every unique word in text data.\n",
    "* It turns text into **fixed-length** vectors by counting **how many times** each word appears.\n",
    "* The text data in our solution was purposely small. **In the real world**, a single observation of text data could be the contents of an entire book!\n",
    "* Bag-of-words model creates a feature for every unique word in the data.\n"
   ]
  },
  {
   "cell_type": "code",
   "execution_count": 104,
   "id": "140b81ab",
   "metadata": {
    "execution": {
     "iopub.execute_input": "2022-07-29T09:13:48.286036Z",
     "iopub.status.busy": "2022-07-29T09:13:48.285632Z",
     "iopub.status.idle": "2022-07-29T09:13:48.289601Z",
     "shell.execute_reply": "2022-07-29T09:13:48.288851Z"
    },
    "papermill": {
     "duration": 0.063111,
     "end_time": "2022-07-29T09:13:48.291552",
     "exception": false,
     "start_time": "2022-07-29T09:13:48.228441",
     "status": "completed"
    },
    "tags": []
   },
   "outputs": [],
   "source": [
    "from sklearn.feature_extraction.text import CountVectorizer"
   ]
  },
  {
   "cell_type": "code",
   "execution_count": 105,
   "id": "a4f90d56",
   "metadata": {
    "execution": {
     "iopub.execute_input": "2022-07-29T09:13:48.405445Z",
     "iopub.status.busy": "2022-07-29T09:13:48.404710Z",
     "iopub.status.idle": "2022-07-29T09:13:48.409137Z",
     "shell.execute_reply": "2022-07-29T09:13:48.408156Z"
    },
    "papermill": {
     "duration": 0.063592,
     "end_time": "2022-07-29T09:13:48.411214",
     "exception": false,
     "start_time": "2022-07-29T09:13:48.347622",
     "status": "completed"
    },
    "tags": []
   },
   "outputs": [],
   "source": [
    "text_data = np.array(['I love Turkey. Turkey!',\n",
    "                      'Sweden is best',\n",
    "                      'Canada is very cold!'])"
   ]
  },
  {
   "cell_type": "code",
   "execution_count": 106,
   "id": "59dd002f",
   "metadata": {
    "execution": {
     "iopub.execute_input": "2022-07-29T09:13:48.525444Z",
     "iopub.status.busy": "2022-07-29T09:13:48.524692Z",
     "iopub.status.idle": "2022-07-29T09:13:48.536097Z",
     "shell.execute_reply": "2022-07-29T09:13:48.534857Z"
    },
    "papermill": {
     "duration": 0.070829,
     "end_time": "2022-07-29T09:13:48.538134",
     "exception": false,
     "start_time": "2022-07-29T09:13:48.467305",
     "status": "completed"
    },
    "tags": []
   },
   "outputs": [
    {
     "data": {
      "text/plain": [
       "<3x8 sparse matrix of type '<class 'numpy.int64'>'\n",
       "\twith 9 stored elements in Compressed Sparse Row format>"
      ]
     },
     "execution_count": 106,
     "metadata": {},
     "output_type": "execute_result"
    }
   ],
   "source": [
    "count=CountVectorizer()\n",
    "bag_of_words=count.fit_transform(text_data)\n",
    "bag_of_words"
   ]
  },
  {
   "cell_type": "code",
   "execution_count": 107,
   "id": "adcefea8",
   "metadata": {
    "execution": {
     "iopub.execute_input": "2022-07-29T09:13:48.652735Z",
     "iopub.status.busy": "2022-07-29T09:13:48.652018Z",
     "iopub.status.idle": "2022-07-29T09:13:48.658060Z",
     "shell.execute_reply": "2022-07-29T09:13:48.657097Z"
    },
    "papermill": {
     "duration": 0.066023,
     "end_time": "2022-07-29T09:13:48.660084",
     "exception": false,
     "start_time": "2022-07-29T09:13:48.594061",
     "status": "completed"
    },
    "tags": []
   },
   "outputs": [
    {
     "data": {
      "text/plain": [
       "array([[0, 0, 0, 0, 1, 0, 2, 0],\n",
       "       [1, 0, 0, 1, 0, 1, 0, 0],\n",
       "       [0, 1, 1, 1, 0, 0, 0, 1]])"
      ]
     },
     "execution_count": 107,
     "metadata": {},
     "output_type": "execute_result"
    }
   ],
   "source": [
    "bag_of_words.toarray()"
   ]
  },
  {
   "cell_type": "code",
   "execution_count": 108,
   "id": "85d65e1f",
   "metadata": {
    "execution": {
     "iopub.execute_input": "2022-07-29T09:13:48.776068Z",
     "iopub.status.busy": "2022-07-29T09:13:48.775444Z",
     "iopub.status.idle": "2022-07-29T09:13:48.781360Z",
     "shell.execute_reply": "2022-07-29T09:13:48.780184Z"
    },
    "papermill": {
     "duration": 0.066631,
     "end_time": "2022-07-29T09:13:48.783343",
     "exception": false,
     "start_time": "2022-07-29T09:13:48.716712",
     "status": "completed"
    },
    "tags": []
   },
   "outputs": [
    {
     "data": {
      "text/plain": [
       "array(['best', 'canada', 'cold', 'is', 'love', 'sweden', 'turkey', 'very'],\n",
       "      dtype=object)"
      ]
     },
     "execution_count": 108,
     "metadata": {},
     "output_type": "execute_result"
    }
   ],
   "source": [
    "count.get_feature_names_out()"
   ]
  },
  {
   "cell_type": "markdown",
   "id": "b980f352",
   "metadata": {
    "papermill": {
     "duration": 0.055696,
     "end_time": "2022-07-29T09:13:48.895115",
     "exception": false,
     "start_time": "2022-07-29T09:13:48.839419",
     "status": "completed"
    },
    "tags": []
   },
   "source": [
    "* I love Turkey. Turkey! has a value of 2 in the \"Turkey\" feature. Because word *Turkey* appears two times!"
   ]
  }
 ],
 "metadata": {
  "kernelspec": {
   "display_name": "Python 3 (ipykernel)",
   "language": "python",
   "name": "python3"
  },
  "language_info": {
   "codemirror_mode": {
    "name": "ipython",
    "version": 3
   },
   "file_extension": ".py",
   "mimetype": "text/x-python",
   "name": "python",
   "nbconvert_exporter": "python",
   "pygments_lexer": "ipython3",
   "version": "3.9.7"
  },
  "papermill": {
   "default_parameters": {},
   "duration": 70.30537,
   "end_time": "2022-07-29T09:13:50.076969",
   "environment_variables": {},
   "exception": null,
   "input_path": "__notebook__.ipynb",
   "output_path": "__notebook__.ipynb",
   "parameters": {},
   "start_time": "2022-07-29T09:12:39.771599",
   "version": "2.3.4"
  }
 },
 "nbformat": 4,
 "nbformat_minor": 5
}
